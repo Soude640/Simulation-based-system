{
  "cells": [
    {
      "cell_type": "code",
      "execution_count": null,
      "metadata": {
        "id": "2OVTnExfsxRd"
      },
      "outputs": [],
      "source": [
        "import numpy as np\n",
        "import matplotlib.pyplot as plt\n",
        "import pandas as pd\n",
        "from sklearn.model_selection import train_test_split\n",
        "from sklearn.linear_model import LogisticRegression\n",
        "from sklearn.linear_model import LinearRegression\n",
        "from sklearn.metrics import mean_squared_error, r2_score\n",
        "from sklearn.ensemble import RandomForestRegressor \n",
        "import seaborn as sns\n",
        "import xgboost as xgb\n"
      ]
    },
    {
      "cell_type": "code",
      "source": [
        "import pandas as pd\n",
        "import numpy as np\n",
        "import seaborn as sns\n",
        "import scipy as scipy"
      ],
      "metadata": {
        "id": "uwRXJels7Mon"
      },
      "execution_count": null,
      "outputs": []
    },
    {
      "cell_type": "code",
      "execution_count": null,
      "metadata": {
        "id": "8a6RUAsqsxRg"
      },
      "outputs": [],
      "source": [
        "url = 'https://raw.githubusercontent.com/soghac/Simulation-based-system/main/data/response%20data.csv'"
      ]
    },
    {
      "cell_type": "code",
      "source": [
        "df = pd.read_csv(url)"
      ],
      "metadata": {
        "id": "3L-h9BUTs_VN"
      },
      "execution_count": null,
      "outputs": []
    },
    {
      "cell_type": "code",
      "execution_count": null,
      "metadata": {
        "id": "hHqFju46sxRl"
      },
      "outputs": [],
      "source": [
        "x = df.iloc[:, :-1].values\n",
        "y = df.iloc[:,-1].values"
      ]
    },
    {
      "cell_type": "code",
      "execution_count": null,
      "metadata": {
        "id": "d2hDdKljsxRl"
      },
      "outputs": [],
      "source": [
        "x_train,x_test,y_train,y_test=train_test_split(x,y,test_size=0.20,random_state=42)"
      ]
    },
    {
      "cell_type": "code",
      "execution_count": null,
      "metadata": {
        "id": "jkYNWN9lsxRl"
      },
      "outputs": [],
      "source": [
        "from sklearn.preprocessing import StandardScaler"
      ]
    },
    {
      "cell_type": "code",
      "execution_count": null,
      "metadata": {
        "id": "clnDEbGjsxRl"
      },
      "outputs": [],
      "source": [
        "scaler=StandardScaler()"
      ]
    },
    {
      "cell_type": "code",
      "execution_count": null,
      "metadata": {
        "id": "27poWrQ8sxRl"
      },
      "outputs": [],
      "source": [
        "x_scaled=scaler.fit_transform(x_train)"
      ]
    },
    {
      "cell_type": "code",
      "execution_count": null,
      "metadata": {
        "id": "72-n8dB8sxRl"
      },
      "outputs": [],
      "source": [
        "x_test_scaled=scaler.transform(x_test)"
      ]
    },
    {
      "cell_type": "code",
      "execution_count": null,
      "metadata": {
        "id": "JHUTTIIYsxRl"
      },
      "outputs": [],
      "source": [
        "from sklearn.ensemble import AdaBoostRegressor\n",
        "from sklearn.metrics import r2_score"
      ]
    },
    {
      "cell_type": "code",
      "execution_count": null,
      "metadata": {
        "id": "bQFBdxJusxRm"
      },
      "outputs": [],
      "source": [
        "AdaBoost_model=AdaBoostRegressor()"
      ]
    },
    {
      "cell_type": "code",
      "execution_count": null,
      "metadata": {
        "colab": {
          "base_uri": "https://localhost:8080/"
        },
        "id": "SWRszJI0sxRm",
        "outputId": "9f192952-5c64-466f-db4b-638bbc5cc57c"
      },
      "outputs": [
        {
          "output_type": "execute_result",
          "data": {
            "text/plain": [
              "AdaBoostRegressor()"
            ]
          },
          "metadata": {},
          "execution_count": 13
        }
      ],
      "source": [
        "AdaBoost_model.fit(x_train,y_train)"
      ]
    },
    {
      "cell_type": "code",
      "execution_count": null,
      "metadata": {
        "colab": {
          "base_uri": "https://localhost:8080/"
        },
        "id": "YX2K5tfasxRm",
        "outputId": "a0d48bba-8ea4-479c-b633-12e02c595c62"
      },
      "outputs": [
        {
          "output_type": "execute_result",
          "data": {
            "text/plain": [
              "0.9326020727170877"
            ]
          },
          "metadata": {},
          "execution_count": 14
        }
      ],
      "source": [
        "AdaBoost_model.score(x_test,y_test)"
      ]
    },
    {
      "cell_type": "code",
      "source": [
        "AdaBoost_model.score(x_train,y_train)"
      ],
      "metadata": {
        "colab": {
          "base_uri": "https://localhost:8080/"
        },
        "id": "-sIf4r66zg_V",
        "outputId": "85f251ee-6e03-4d37-df80-3f817c2c354c"
      },
      "execution_count": null,
      "outputs": [
        {
          "output_type": "execute_result",
          "data": {
            "text/plain": [
              "0.9385302364584389"
            ]
          },
          "metadata": {},
          "execution_count": 15
        }
      ]
    },
    {
      "cell_type": "code",
      "execution_count": null,
      "metadata": {
        "id": "DuheK-aQsxRm"
      },
      "outputs": [],
      "source": [
        "y_pred = AdaBoost_model.predict(x_test)"
      ]
    },
    {
      "cell_type": "code",
      "execution_count": null,
      "metadata": {
        "colab": {
          "base_uri": "https://localhost:8080/"
        },
        "id": "NPiNhZdBsxRm",
        "outputId": "334ced2b-fb05-41ae-cf1e-c9114d3abc1e"
      },
      "outputs": [
        {
          "output_type": "stream",
          "name": "stdout",
          "text": [
            "Mean Absolute Error: 24.961463340636996\n",
            "Mean Squared Error: 2190.503821373784\n",
            "Root Mean Squared Error: 46.80281851954841\n"
          ]
        }
      ],
      "source": [
        "from sklearn import metrics\n",
        "\n",
        "print('Mean Absolute Error:', metrics.mean_absolute_error(y_test, y_pred))\n",
        "print('Mean Squared Error:', metrics.mean_squared_error(y_test, y_pred))\n",
        "print('Root Mean Squared Error:', np.sqrt(metrics.mean_squared_error(y_test, y_pred)))\n"
      ]
    },
    {
      "cell_type": "code",
      "source": [
        "%%capture\n",
        "!pip install eli5"
      ],
      "metadata": {
        "id": "xgU8F4khz_Lp"
      },
      "execution_count": null,
      "outputs": []
    },
    {
      "cell_type": "code",
      "source": [
        "import eli5\n",
        "from eli5.sklearn import PermutationImportance"
      ],
      "metadata": {
        "id": "odZ1AUjKzqx5"
      },
      "execution_count": null,
      "outputs": []
    },
    {
      "cell_type": "code",
      "source": [
        "permuter = PermutationImportance(\n",
        "    estimator=AdaBoost_model,\n",
        "    scoring='r2',\n",
        "    n_iter=5,\n",
        "    random_state=42)\n",
        "permuter.fit(x_test,y_test)"
      ],
      "metadata": {
        "colab": {
          "base_uri": "https://localhost:8080/"
        },
        "id": "UdxwG0Qh0O5j",
        "outputId": "201fff0c-a35c-4f30-dbd5-7c89aa83c58b"
      },
      "execution_count": null,
      "outputs": [
        {
          "output_type": "execute_result",
          "data": {
            "text/plain": [
              "PermutationImportance(estimator=AdaBoostRegressor(), random_state=42,\n",
              "                      scoring='r2')"
            ]
          },
          "metadata": {},
          "execution_count": 20
        }
      ]
    },
    {
      "cell_type": "code",
      "source": [
        "from sklearn.inspection import permutation_importance"
      ],
      "metadata": {
        "id": "XLsZT75s0mKC"
      },
      "execution_count": null,
      "outputs": []
    },
    {
      "cell_type": "code",
      "source": [
        "result = permutation_importance(\n",
        "    AdaBoost_model, x_train, y_train, n_repeats=10, random_state=42, n_jobs=2\n",
        ")\n",
        "\n",
        "sorted_importances_idx = result.importances_mean.argsort()\n",
        "importances = pd.DataFrame(\n",
        "    result.importances[sorted_importances_idx].T\n",
        ")"
      ],
      "metadata": {
        "id": "xQz3DZm60dP5"
      },
      "execution_count": null,
      "outputs": []
    },
    {
      "cell_type": "code",
      "source": [
        "sorted_importances_idx"
      ],
      "metadata": {
        "colab": {
          "base_uri": "https://localhost:8080/"
        },
        "id": "7pUHK5aH0pXp",
        "outputId": "a5d346d7-ac48-4d48-a76a-0fef5d366618"
      },
      "execution_count": null,
      "outputs": [
        {
          "output_type": "execute_result",
          "data": {
            "text/plain": [
              "array([2, 6, 7, 1, 5, 0, 4, 3])"
            ]
          },
          "metadata": {},
          "execution_count": 23
        }
      ]
    },
    {
      "cell_type": "code",
      "source": [
        "importances"
      ],
      "metadata": {
        "colab": {
          "base_uri": "https://localhost:8080/",
          "height": 363
        },
        "id": "O1QXEQgC0stw",
        "outputId": "e07df9f9-a8e5-4a17-eeb2-2dad9f867840"
      },
      "execution_count": null,
      "outputs": [
        {
          "output_type": "execute_result",
          "data": {
            "text/plain": [
              "     0    1    2             3         4         5         6         7\n",
              "0  0.0  0.0  0.0  1.415953e-07  0.028421  0.238348  0.341200  1.369192\n",
              "1  0.0  0.0  0.0  1.111415e-07  0.025799  0.264337  0.310424  1.546930\n",
              "2  0.0  0.0  0.0  1.447342e-07  0.021050  0.242315  0.303547  1.637408\n",
              "3  0.0  0.0  0.0  9.889649e-08  0.030444  0.253032  0.331376  1.452263\n",
              "4  0.0  0.0  0.0  2.383484e-09  0.019530  0.248893  0.326898  1.601529\n",
              "5  0.0  0.0  0.0  1.137894e-07  0.027769  0.248705  0.387247  1.443688\n",
              "6  0.0  0.0  0.0  1.381864e-07  0.018863  0.196350  0.349007  1.539635\n",
              "7  0.0  0.0  0.0  1.284677e-07  0.021172  0.262025  0.292132  1.505574\n",
              "8  0.0  0.0  0.0  1.804888e-08  0.027581  0.235998  0.377958  1.604128\n",
              "9  0.0  0.0  0.0  9.760781e-09  0.019588  0.283903  0.362906  1.482896"
            ],
            "text/html": [
              "\n",
              "  <div id=\"df-579d26e7-2d66-4aa6-966a-b1c0554fcf75\">\n",
              "    <div class=\"colab-df-container\">\n",
              "      <div>\n",
              "<style scoped>\n",
              "    .dataframe tbody tr th:only-of-type {\n",
              "        vertical-align: middle;\n",
              "    }\n",
              "\n",
              "    .dataframe tbody tr th {\n",
              "        vertical-align: top;\n",
              "    }\n",
              "\n",
              "    .dataframe thead th {\n",
              "        text-align: right;\n",
              "    }\n",
              "</style>\n",
              "<table border=\"1\" class=\"dataframe\">\n",
              "  <thead>\n",
              "    <tr style=\"text-align: right;\">\n",
              "      <th></th>\n",
              "      <th>0</th>\n",
              "      <th>1</th>\n",
              "      <th>2</th>\n",
              "      <th>3</th>\n",
              "      <th>4</th>\n",
              "      <th>5</th>\n",
              "      <th>6</th>\n",
              "      <th>7</th>\n",
              "    </tr>\n",
              "  </thead>\n",
              "  <tbody>\n",
              "    <tr>\n",
              "      <th>0</th>\n",
              "      <td>0.0</td>\n",
              "      <td>0.0</td>\n",
              "      <td>0.0</td>\n",
              "      <td>1.415953e-07</td>\n",
              "      <td>0.028421</td>\n",
              "      <td>0.238348</td>\n",
              "      <td>0.341200</td>\n",
              "      <td>1.369192</td>\n",
              "    </tr>\n",
              "    <tr>\n",
              "      <th>1</th>\n",
              "      <td>0.0</td>\n",
              "      <td>0.0</td>\n",
              "      <td>0.0</td>\n",
              "      <td>1.111415e-07</td>\n",
              "      <td>0.025799</td>\n",
              "      <td>0.264337</td>\n",
              "      <td>0.310424</td>\n",
              "      <td>1.546930</td>\n",
              "    </tr>\n",
              "    <tr>\n",
              "      <th>2</th>\n",
              "      <td>0.0</td>\n",
              "      <td>0.0</td>\n",
              "      <td>0.0</td>\n",
              "      <td>1.447342e-07</td>\n",
              "      <td>0.021050</td>\n",
              "      <td>0.242315</td>\n",
              "      <td>0.303547</td>\n",
              "      <td>1.637408</td>\n",
              "    </tr>\n",
              "    <tr>\n",
              "      <th>3</th>\n",
              "      <td>0.0</td>\n",
              "      <td>0.0</td>\n",
              "      <td>0.0</td>\n",
              "      <td>9.889649e-08</td>\n",
              "      <td>0.030444</td>\n",
              "      <td>0.253032</td>\n",
              "      <td>0.331376</td>\n",
              "      <td>1.452263</td>\n",
              "    </tr>\n",
              "    <tr>\n",
              "      <th>4</th>\n",
              "      <td>0.0</td>\n",
              "      <td>0.0</td>\n",
              "      <td>0.0</td>\n",
              "      <td>2.383484e-09</td>\n",
              "      <td>0.019530</td>\n",
              "      <td>0.248893</td>\n",
              "      <td>0.326898</td>\n",
              "      <td>1.601529</td>\n",
              "    </tr>\n",
              "    <tr>\n",
              "      <th>5</th>\n",
              "      <td>0.0</td>\n",
              "      <td>0.0</td>\n",
              "      <td>0.0</td>\n",
              "      <td>1.137894e-07</td>\n",
              "      <td>0.027769</td>\n",
              "      <td>0.248705</td>\n",
              "      <td>0.387247</td>\n",
              "      <td>1.443688</td>\n",
              "    </tr>\n",
              "    <tr>\n",
              "      <th>6</th>\n",
              "      <td>0.0</td>\n",
              "      <td>0.0</td>\n",
              "      <td>0.0</td>\n",
              "      <td>1.381864e-07</td>\n",
              "      <td>0.018863</td>\n",
              "      <td>0.196350</td>\n",
              "      <td>0.349007</td>\n",
              "      <td>1.539635</td>\n",
              "    </tr>\n",
              "    <tr>\n",
              "      <th>7</th>\n",
              "      <td>0.0</td>\n",
              "      <td>0.0</td>\n",
              "      <td>0.0</td>\n",
              "      <td>1.284677e-07</td>\n",
              "      <td>0.021172</td>\n",
              "      <td>0.262025</td>\n",
              "      <td>0.292132</td>\n",
              "      <td>1.505574</td>\n",
              "    </tr>\n",
              "    <tr>\n",
              "      <th>8</th>\n",
              "      <td>0.0</td>\n",
              "      <td>0.0</td>\n",
              "      <td>0.0</td>\n",
              "      <td>1.804888e-08</td>\n",
              "      <td>0.027581</td>\n",
              "      <td>0.235998</td>\n",
              "      <td>0.377958</td>\n",
              "      <td>1.604128</td>\n",
              "    </tr>\n",
              "    <tr>\n",
              "      <th>9</th>\n",
              "      <td>0.0</td>\n",
              "      <td>0.0</td>\n",
              "      <td>0.0</td>\n",
              "      <td>9.760781e-09</td>\n",
              "      <td>0.019588</td>\n",
              "      <td>0.283903</td>\n",
              "      <td>0.362906</td>\n",
              "      <td>1.482896</td>\n",
              "    </tr>\n",
              "  </tbody>\n",
              "</table>\n",
              "</div>\n",
              "      <button class=\"colab-df-convert\" onclick=\"convertToInteractive('df-579d26e7-2d66-4aa6-966a-b1c0554fcf75')\"\n",
              "              title=\"Convert this dataframe to an interactive table.\"\n",
              "              style=\"display:none;\">\n",
              "        \n",
              "  <svg xmlns=\"http://www.w3.org/2000/svg\" height=\"24px\"viewBox=\"0 0 24 24\"\n",
              "       width=\"24px\">\n",
              "    <path d=\"M0 0h24v24H0V0z\" fill=\"none\"/>\n",
              "    <path d=\"M18.56 5.44l.94 2.06.94-2.06 2.06-.94-2.06-.94-.94-2.06-.94 2.06-2.06.94zm-11 1L8.5 8.5l.94-2.06 2.06-.94-2.06-.94L8.5 2.5l-.94 2.06-2.06.94zm10 10l.94 2.06.94-2.06 2.06-.94-2.06-.94-.94-2.06-.94 2.06-2.06.94z\"/><path d=\"M17.41 7.96l-1.37-1.37c-.4-.4-.92-.59-1.43-.59-.52 0-1.04.2-1.43.59L10.3 9.45l-7.72 7.72c-.78.78-.78 2.05 0 2.83L4 21.41c.39.39.9.59 1.41.59.51 0 1.02-.2 1.41-.59l7.78-7.78 2.81-2.81c.8-.78.8-2.07 0-2.86zM5.41 20L4 18.59l7.72-7.72 1.47 1.35L5.41 20z\"/>\n",
              "  </svg>\n",
              "      </button>\n",
              "      \n",
              "  <style>\n",
              "    .colab-df-container {\n",
              "      display:flex;\n",
              "      flex-wrap:wrap;\n",
              "      gap: 12px;\n",
              "    }\n",
              "\n",
              "    .colab-df-convert {\n",
              "      background-color: #E8F0FE;\n",
              "      border: none;\n",
              "      border-radius: 50%;\n",
              "      cursor: pointer;\n",
              "      display: none;\n",
              "      fill: #1967D2;\n",
              "      height: 32px;\n",
              "      padding: 0 0 0 0;\n",
              "      width: 32px;\n",
              "    }\n",
              "\n",
              "    .colab-df-convert:hover {\n",
              "      background-color: #E2EBFA;\n",
              "      box-shadow: 0px 1px 2px rgba(60, 64, 67, 0.3), 0px 1px 3px 1px rgba(60, 64, 67, 0.15);\n",
              "      fill: #174EA6;\n",
              "    }\n",
              "\n",
              "    [theme=dark] .colab-df-convert {\n",
              "      background-color: #3B4455;\n",
              "      fill: #D2E3FC;\n",
              "    }\n",
              "\n",
              "    [theme=dark] .colab-df-convert:hover {\n",
              "      background-color: #434B5C;\n",
              "      box-shadow: 0px 1px 3px 1px rgba(0, 0, 0, 0.15);\n",
              "      filter: drop-shadow(0px 1px 2px rgba(0, 0, 0, 0.3));\n",
              "      fill: #FFFFFF;\n",
              "    }\n",
              "  </style>\n",
              "\n",
              "      <script>\n",
              "        const buttonEl =\n",
              "          document.querySelector('#df-579d26e7-2d66-4aa6-966a-b1c0554fcf75 button.colab-df-convert');\n",
              "        buttonEl.style.display =\n",
              "          google.colab.kernel.accessAllowed ? 'block' : 'none';\n",
              "\n",
              "        async function convertToInteractive(key) {\n",
              "          const element = document.querySelector('#df-579d26e7-2d66-4aa6-966a-b1c0554fcf75');\n",
              "          const dataTable =\n",
              "            await google.colab.kernel.invokeFunction('convertToInteractive',\n",
              "                                                     [key], {});\n",
              "          if (!dataTable) return;\n",
              "\n",
              "          const docLinkHtml = 'Like what you see? Visit the ' +\n",
              "            '<a target=\"_blank\" href=https://colab.research.google.com/notebooks/data_table.ipynb>data table notebook</a>'\n",
              "            + ' to learn more about interactive tables.';\n",
              "          element.innerHTML = '';\n",
              "          dataTable['output_type'] = 'display_data';\n",
              "          await google.colab.output.renderOutput(dataTable, element);\n",
              "          const docLink = document.createElement('div');\n",
              "          docLink.innerHTML = docLinkHtml;\n",
              "          element.appendChild(docLink);\n",
              "        }\n",
              "      </script>\n",
              "    </div>\n",
              "  </div>\n",
              "  "
            ]
          },
          "metadata": {},
          "execution_count": 24
        }
      ]
    },
    {
      "cell_type": "code",
      "source": [
        "ax = importances.plot.box(vert=False, whis=10)\n",
        "ax.set_title(\"Permutation Importances (train set)\")\n",
        "ax.axvline(x=0, color=\"k\", linestyle=\"--\")\n",
        "ax.set_xlabel(\"Decrease in accuracy score\")\n",
        "ax.figure.tight_layout()"
      ],
      "metadata": {
        "colab": {
          "base_uri": "https://localhost:8080/",
          "height": 297
        },
        "id": "fv4BXHjR1SaJ",
        "outputId": "8796a6a1-3dfc-4408-d371-e588462e9ccf"
      },
      "execution_count": null,
      "outputs": [
        {
          "output_type": "display_data",
          "data": {
            "text/plain": [
              "<Figure size 432x288 with 1 Axes>"
            ],
            "image/png": "[encoded data removed]"
          },
          "metadata": {
            "needs_background": "light"
          }
        }
      ]
    },
    {
      "cell_type": "code",
      "execution_count": null,
      "metadata": {
        "colab": {
          "base_uri": "https://localhost:8080/"
        },
        "id": "LvcxUinasxRm",
        "outputId": "7b248e4f-aad4-4005-b529-1ceb884a5ac5"
      },
      "outputs": [
        {
          "output_type": "execute_result",
          "data": {
            "text/plain": [
              "array([0.10290875, 0.00122777, 0.        , 0.68239086, 0.16604557,\n",
              "       0.04742705, 0.        , 0.        ])"
            ]
          },
          "metadata": {},
          "execution_count": 26
        }
      ],
      "source": [
        "AdaBoost_model.feature_importances_"
      ]
    },
    {
      "cell_type": "code",
      "execution_count": null,
      "metadata": {
        "colab": {
          "base_uri": "https://localhost:8080/"
        },
        "id": "vD2znb0tsxRm",
        "outputId": "62fa91be-2ca0-4146-bee1-18185c40962c"
      },
      "outputs": [
        {
          "output_type": "execute_result",
          "data": {
            "text/plain": [
              "Index(['online user', '# Spark workers', '#VMs', 'size of data',\n",
              "       'Amount of memory of workers', '# cores of workers', 'total memory',\n",
              "       '#cores of VMs', 'Ave response time'],\n",
              "      dtype='object')"
            ]
          },
          "metadata": {},
          "execution_count": 19
        }
      ],
      "source": [
        "df.columns"
      ]
    },
    {
      "cell_type": "code",
      "source": [
        "from scipy.stats import spearmanr"
      ],
      "metadata": {
        "id": "wMZBXo1wFvbV"
      },
      "execution_count": null,
      "outputs": []
    },
    {
      "cell_type": "code",
      "source": [
        "#Adaboost\n",
        "coef, p = spearmanr(y_test, y_pred)\n",
        "print('Spearmans correlation coefficient: %.3f' % coef)\n",
        "# interpret the significance\n",
        "alpha = 0.05\n",
        "if p > alpha:\n",
        " print('Samples are uncorrelated (fail to reject H0) p=%.3f' % p)\n",
        "else:\n",
        " print('Samples are correlated (reject H0) p=%.3f' % p)"
      ],
      "metadata": {
        "colab": {
          "base_uri": "https://localhost:8080/"
        },
        "id": "OvfXx15gF0IF",
        "outputId": "96e70d36-2092-4086-eea9-a3c2c6511107"
      },
      "execution_count": null,
      "outputs": [
        {
          "output_type": "stream",
          "name": "stdout",
          "text": [
            "Spearmans correlation coefficient: 0.954\n",
            "Samples are correlated (reject H0) p=0.000\n"
          ]
        }
      ]
    },
    {
      "cell_type": "code",
      "source": [
        "from sklearn.model_selection import cross_val_score\n",
        "accuracies = cross_val_score(estimator = AdaBoost_model, X = x_test_scaled, y = y_test, cv = 10)\n",
        "accuracies.mean()\n",
        "accuracies.std()"
      ],
      "metadata": {
        "colab": {
          "base_uri": "https://localhost:8080/"
        },
        "id": "y-ST6c-AnX6f",
        "outputId": "3974b9c0-1e4d-4e77-e39a-b964ad62e6e6"
      },
      "execution_count": null,
      "outputs": [
        {
          "output_type": "execute_result",
          "data": {
            "text/plain": [
              "0.023525009297171707"
            ]
          },
          "metadata": {},
          "execution_count": 22
        }
      ]
    },
    {
      "cell_type": "code",
      "source": [
        "accuracies.mean()"
      ],
      "metadata": {
        "colab": {
          "base_uri": "https://localhost:8080/"
        },
        "id": "KtEmmzNOnYA8",
        "outputId": "d7704451-8711-4fa1-e02f-afc2c561a04f"
      },
      "execution_count": null,
      "outputs": [
        {
          "output_type": "execute_result",
          "data": {
            "text/plain": [
              "0.9391625545569611"
            ]
          },
          "metadata": {},
          "execution_count": 23
        }
      ]
    },
    {
      "cell_type": "raw",
      "metadata": {
        "id": "m7AzEPcdsxRm"
      },
      "source": [
        "result = pd.Dataframe(AdaBoost_model.feature_importances_, dataset.columns)\n",
        "result.columns = ['feature']"
      ]
    },
    {
      "cell_type": "code",
      "execution_count": null,
      "metadata": {
        "id": "tP8kZzxlsxRn"
      },
      "outputs": [],
      "source": [
        "# Feature Scaling\n",
        "from sklearn.preprocessing import StandardScaler\n",
        "\n",
        "sc = StandardScaler()\n",
        "x_train = sc.fit_transform(x_train)\n",
        "x_test = sc.transform(x_test)"
      ]
    },
    {
      "cell_type": "code",
      "execution_count": null,
      "metadata": {
        "id": "hie4HsEMsxRn"
      },
      "outputs": [],
      "source": [
        "from sklearn.ensemble import RandomForestRegressor\n",
        "\n",
        "regressor = RandomForestRegressor(n_estimators=20, random_state=0)\n",
        "regressor.fit(x_train, y_train)\n",
        "y_pred = regressor.predict(x_test)"
      ]
    },
    {
      "cell_type": "code",
      "source": [
        "from sklearn.inspection import permutation_importance\n",
        "imp = permutation_importance(regressor, x_train, y_train\n",
        "                           )\n",
        "\n",
        "imp\n"
      ],
      "metadata": {
        "colab": {
          "base_uri": "https://localhost:8080/"
        },
        "id": "-S72AwlqTbBi",
        "outputId": "631f3c25-3ccc-49cc-984a-1a3314835180"
      },
      "execution_count": null,
      "outputs": [
        {
          "output_type": "execute_result",
          "data": {
            "text/plain": [
              "{'importances_mean': array([2.65649321e-01, 2.92114439e-02, 4.63114639e-04, 1.53964015e+00,\n",
              "        4.87381463e-02, 4.76133707e-02, 2.72761657e-04, 8.62709119e-05]),\n",
              " 'importances_std': array([3.17399494e-02, 1.65615772e-03, 4.35446777e-05, 5.21626881e-02,\n",
              "        2.89754058e-03, 2.45264210e-03, 2.95825649e-05, 1.43018363e-05]),\n",
              " 'importances': array([[2.70377000e-01, 2.28320480e-01, 3.04159934e-01, 2.95258382e-01,\n",
              "         2.30130807e-01],\n",
              "        [2.70389560e-02, 2.98545323e-02, 3.18988802e-02, 2.92190204e-02,\n",
              "         2.80458307e-02],\n",
              "        [4.15222674e-04, 4.93346492e-04, 4.08832092e-04, 5.18303428e-04,\n",
              "         4.79868510e-04],\n",
              "        [1.60100800e+00, 1.51188099e+00, 1.59768088e+00, 1.46643286e+00,\n",
              "         1.52119802e+00],\n",
              "        [4.72123414e-02, 5.18860664e-02, 5.17861598e-02, 4.85877772e-02,\n",
              "         4.42183865e-02],\n",
              "        [4.37199506e-02, 4.81420480e-02, 5.06650819e-02, 4.93942497e-02,\n",
              "         4.61455235e-02],\n",
              "        [2.39247804e-04, 2.91595753e-04, 2.37917307e-04, 3.12644755e-04,\n",
              "         2.82402664e-04],\n",
              "        [6.91637675e-05, 9.40191387e-05, 7.15203203e-05, 1.07320360e-04,\n",
              "         8.93309727e-05]])}"
            ]
          },
          "metadata": {},
          "execution_count": 17
        }
      ]
    },
    {
      "cell_type": "code",
      "source": [
        "%%capture\n",
        "!pip install eli5"
      ],
      "metadata": {
        "id": "c6n9_-ySm6pp"
      },
      "execution_count": null,
      "outputs": []
    },
    {
      "cell_type": "code",
      "source": [
        "import eli5\n",
        "from eli5.sklearn import PermutationImportance"
      ],
      "metadata": {
        "id": "9nN77HIWnIni"
      },
      "execution_count": null,
      "outputs": []
    },
    {
      "cell_type": "code",
      "source": [
        "permuter = PermutationImportance(\n",
        "    estimator=regressor,\n",
        "    scoring='r2',\n",
        "    n_iter=5,\n",
        "    random_state=42)\n",
        "permuter.fit(x_test,y_test)"
      ],
      "metadata": {
        "colab": {
          "base_uri": "https://localhost:8080/"
        },
        "id": "mZve0gmYom83",
        "outputId": "8b8eaa79-fe38-429a-8b67-0979284b8dc4"
      },
      "execution_count": null,
      "outputs": [
        {
          "output_type": "execute_result",
          "data": {
            "text/plain": [
              "PermutationImportance(estimator=RandomForestRegressor(n_estimators=20,\n",
              "                                                      random_state=0),\n",
              "                      random_state=42, scoring='r2')"
            ]
          },
          "metadata": {},
          "execution_count": 44
        }
      ]
    },
    {
      "cell_type": "code",
      "source": [
        "result = permutation_importance(\n",
        "    regressor, x_train, y_train, n_repeats=10, random_state=42, n_jobs=2\n",
        ")\n",
        "\n",
        "sorted_importances_idx = result.importances_mean.argsort()\n",
        "importances = pd.DataFrame(\n",
        "    result.importances[sorted_importances_idx].T\n",
        ")"
      ],
      "metadata": {
        "id": "qej_7w_MqKu-"
      },
      "execution_count": null,
      "outputs": []
    },
    {
      "cell_type": "code",
      "source": [
        "importances"
      ],
      "metadata": {
        "colab": {
          "base_uri": "https://localhost:8080/",
          "height": 322
        },
        "id": "RfB8naU3scY7",
        "outputId": "6002aea8-1472-44d5-83ba-e96bd77b64fe"
      },
      "execution_count": null,
      "outputs": [
        {
          "output_type": "execute_result",
          "data": {
            "text/plain": [
              "          0         1         2         3         4         5         6  \\\n",
              "0  0.000225  0.000232  0.000378  0.035641  0.048762  0.060001  0.274125   \n",
              "1  0.000223  0.000230  0.000375  0.030287  0.042439  0.052410  0.308515   \n",
              "2  0.000241  0.000249  0.000401  0.029847  0.041563  0.050612  0.271831   \n",
              "3  0.000216  0.000223  0.000366  0.033165  0.046182  0.056995  0.283576   \n",
              "4  0.000204  0.000211  0.000353  0.030178  0.043099  0.053128  0.288161   \n",
              "5  0.000210  0.000216  0.000355  0.037711  0.053729  0.066453  0.288541   \n",
              "6  0.000207  0.000213  0.000357  0.030730  0.044710  0.056002  0.231831   \n",
              "7  0.000207  0.000213  0.000354  0.027980  0.038829  0.047388  0.302510   \n",
              "8  0.000206  0.000212  0.000345  0.038003  0.053242  0.065729  0.273828   \n",
              "9  0.000205  0.000211  0.000347  0.034638  0.048984  0.060430  0.314782   \n",
              "\n",
              "          7  \n",
              "0  1.394861  \n",
              "1  1.572108  \n",
              "2  1.662604  \n",
              "3  1.474419  \n",
              "4  1.623185  \n",
              "5  1.455342  \n",
              "6  1.574662  \n",
              "7  1.515122  \n",
              "8  1.613737  \n",
              "9  1.495873  "
            ],
            "text/html": [
              "\n",
              "  <div id=\"df-10c815ab-9329-4435-b241-5605e2223260\">\n",
              "    <div class=\"colab-df-container\">\n",
              "      <div>\n",
              "<style scoped>\n",
              "    .dataframe tbody tr th:only-of-type {\n",
              "        vertical-align: middle;\n",
              "    }\n",
              "\n",
              "    .dataframe tbody tr th {\n",
              "        vertical-align: top;\n",
              "    }\n",
              "\n",
              "    .dataframe thead th {\n",
              "        text-align: right;\n",
              "    }\n",
              "</style>\n",
              "<table border=\"1\" class=\"dataframe\">\n",
              "  <thead>\n",
              "    <tr style=\"text-align: right;\">\n",
              "      <th></th>\n",
              "      <th>0</th>\n",
              "      <th>1</th>\n",
              "      <th>2</th>\n",
              "      <th>3</th>\n",
              "      <th>4</th>\n",
              "      <th>5</th>\n",
              "      <th>6</th>\n",
              "      <th>7</th>\n",
              "    </tr>\n",
              "  </thead>\n",
              "  <tbody>\n",
              "    <tr>\n",
              "      <th>0</th>\n",
              "      <td>0.000225</td>\n",
              "      <td>0.000232</td>\n",
              "      <td>0.000378</td>\n",
              "      <td>0.035641</td>\n",
              "      <td>0.048762</td>\n",
              "      <td>0.060001</td>\n",
              "      <td>0.274125</td>\n",
              "      <td>1.394861</td>\n",
              "    </tr>\n",
              "    <tr>\n",
              "      <th>1</th>\n",
              "      <td>0.000223</td>\n",
              "      <td>0.000230</td>\n",
              "      <td>0.000375</td>\n",
              "      <td>0.030287</td>\n",
              "      <td>0.042439</td>\n",
              "      <td>0.052410</td>\n",
              "      <td>0.308515</td>\n",
              "      <td>1.572108</td>\n",
              "    </tr>\n",
              "    <tr>\n",
              "      <th>2</th>\n",
              "      <td>0.000241</td>\n",
              "      <td>0.000249</td>\n",
              "      <td>0.000401</td>\n",
              "      <td>0.029847</td>\n",
              "      <td>0.041563</td>\n",
              "      <td>0.050612</td>\n",
              "      <td>0.271831</td>\n",
              "      <td>1.662604</td>\n",
              "    </tr>\n",
              "    <tr>\n",
              "      <th>3</th>\n",
              "      <td>0.000216</td>\n",
              "      <td>0.000223</td>\n",
              "      <td>0.000366</td>\n",
              "      <td>0.033165</td>\n",
              "      <td>0.046182</td>\n",
              "      <td>0.056995</td>\n",
              "      <td>0.283576</td>\n",
              "      <td>1.474419</td>\n",
              "    </tr>\n",
              "    <tr>\n",
              "      <th>4</th>\n",
              "      <td>0.000204</td>\n",
              "      <td>0.000211</td>\n",
              "      <td>0.000353</td>\n",
              "      <td>0.030178</td>\n",
              "      <td>0.043099</td>\n",
              "      <td>0.053128</td>\n",
              "      <td>0.288161</td>\n",
              "      <td>1.623185</td>\n",
              "    </tr>\n",
              "    <tr>\n",
              "      <th>5</th>\n",
              "      <td>0.000210</td>\n",
              "      <td>0.000216</td>\n",
              "      <td>0.000355</td>\n",
              "      <td>0.037711</td>\n",
              "      <td>0.053729</td>\n",
              "      <td>0.066453</td>\n",
              "      <td>0.288541</td>\n",
              "      <td>1.455342</td>\n",
              "    </tr>\n",
              "    <tr>\n",
              "      <th>6</th>\n",
              "      <td>0.000207</td>\n",
              "      <td>0.000213</td>\n",
              "      <td>0.000357</td>\n",
              "      <td>0.030730</td>\n",
              "      <td>0.044710</td>\n",
              "      <td>0.056002</td>\n",
              "      <td>0.231831</td>\n",
              "      <td>1.574662</td>\n",
              "    </tr>\n",
              "    <tr>\n",
              "      <th>7</th>\n",
              "      <td>0.000207</td>\n",
              "      <td>0.000213</td>\n",
              "      <td>0.000354</td>\n",
              "      <td>0.027980</td>\n",
              "      <td>0.038829</td>\n",
              "      <td>0.047388</td>\n",
              "      <td>0.302510</td>\n",
              "      <td>1.515122</td>\n",
              "    </tr>\n",
              "    <tr>\n",
              "      <th>8</th>\n",
              "      <td>0.000206</td>\n",
              "      <td>0.000212</td>\n",
              "      <td>0.000345</td>\n",
              "      <td>0.038003</td>\n",
              "      <td>0.053242</td>\n",
              "      <td>0.065729</td>\n",
              "      <td>0.273828</td>\n",
              "      <td>1.613737</td>\n",
              "    </tr>\n",
              "    <tr>\n",
              "      <th>9</th>\n",
              "      <td>0.000205</td>\n",
              "      <td>0.000211</td>\n",
              "      <td>0.000347</td>\n",
              "      <td>0.034638</td>\n",
              "      <td>0.048984</td>\n",
              "      <td>0.060430</td>\n",
              "      <td>0.314782</td>\n",
              "      <td>1.495873</td>\n",
              "    </tr>\n",
              "  </tbody>\n",
              "</table>\n",
              "</div>\n",
              "      <button class=\"colab-df-convert\" onclick=\"convertToInteractive('df-10c815ab-9329-4435-b241-5605e2223260')\"\n",
              "              title=\"Convert this dataframe to an interactive table.\"\n",
              "              style=\"display:none;\">\n",
              "        \n",
              "  <svg xmlns=\"http://www.w3.org/2000/svg\" height=\"24px\"viewBox=\"0 0 24 24\"\n",
              "       width=\"24px\">\n",
              "    <path d=\"M0 0h24v24H0V0z\" fill=\"none\"/>\n",
              "    <path d=\"M18.56 5.44l.94 2.06.94-2.06 2.06-.94-2.06-.94-.94-2.06-.94 2.06-2.06.94zm-11 1L8.5 8.5l.94-2.06 2.06-.94-2.06-.94L8.5 2.5l-.94 2.06-2.06.94zm10 10l.94 2.06.94-2.06 2.06-.94-2.06-.94-.94-2.06-.94 2.06-2.06.94z\"/><path d=\"M17.41 7.96l-1.37-1.37c-.4-.4-.92-.59-1.43-.59-.52 0-1.04.2-1.43.59L10.3 9.45l-7.72 7.72c-.78.78-.78 2.05 0 2.83L4 21.41c.39.39.9.59 1.41.59.51 0 1.02-.2 1.41-.59l7.78-7.78 2.81-2.81c.8-.78.8-2.07 0-2.86zM5.41 20L4 18.59l7.72-7.72 1.47 1.35L5.41 20z\"/>\n",
              "  </svg>\n",
              "      </button>\n",
              "      \n",
              "  <style>\n",
              "    .colab-df-container {\n",
              "      display:flex;\n",
              "      flex-wrap:wrap;\n",
              "      gap: 12px;\n",
              "    }\n",
              "\n",
              "    .colab-df-convert {\n",
              "      background-color: #E8F0FE;\n",
              "      border: none;\n",
              "      border-radius: 50%;\n",
              "      cursor: pointer;\n",
              "      display: none;\n",
              "      fill: #1967D2;\n",
              "      height: 32px;\n",
              "      padding: 0 0 0 0;\n",
              "      width: 32px;\n",
              "    }\n",
              "\n",
              "    .colab-df-convert:hover {\n",
              "      background-color: #E2EBFA;\n",
              "      box-shadow: 0px 1px 2px rgba(60, 64, 67, 0.3), 0px 1px 3px 1px rgba(60, 64, 67, 0.15);\n",
              "      fill: #174EA6;\n",
              "    }\n",
              "\n",
              "    [theme=dark] .colab-df-convert {\n",
              "      background-color: #3B4455;\n",
              "      fill: #D2E3FC;\n",
              "    }\n",
              "\n",
              "    [theme=dark] .colab-df-convert:hover {\n",
              "      background-color: #434B5C;\n",
              "      box-shadow: 0px 1px 3px 1px rgba(0, 0, 0, 0.15);\n",
              "      filter: drop-shadow(0px 1px 2px rgba(0, 0, 0, 0.3));\n",
              "      fill: #FFFFFF;\n",
              "    }\n",
              "  </style>\n",
              "\n",
              "      <script>\n",
              "        const buttonEl =\n",
              "          document.querySelector('#df-10c815ab-9329-4435-b241-5605e2223260 button.colab-df-convert');\n",
              "        buttonEl.style.display =\n",
              "          google.colab.kernel.accessAllowed ? 'block' : 'none';\n",
              "\n",
              "        async function convertToInteractive(key) {\n",
              "          const element = document.querySelector('#df-10c815ab-9329-4435-b241-5605e2223260');\n",
              "          const dataTable =\n",
              "            await google.colab.kernel.invokeFunction('convertToInteractive',\n",
              "                                                     [key], {});\n",
              "          if (!dataTable) return;\n",
              "\n",
              "          const docLinkHtml = 'Like what you see? Visit the ' +\n",
              "            '<a target=\"_blank\" href=https://colab.research.google.com/notebooks/data_table.ipynb>data table notebook</a>'\n",
              "            + ' to learn more about interactive tables.';\n",
              "          element.innerHTML = '';\n",
              "          dataTable['output_type'] = 'display_data';\n",
              "          await google.colab.output.renderOutput(dataTable, element);\n",
              "          const docLink = document.createElement('div');\n",
              "          docLink.innerHTML = docLinkHtml;\n",
              "          element.appendChild(docLink);\n",
              "        }\n",
              "      </script>\n",
              "    </div>\n",
              "  </div>\n",
              "  "
            ]
          },
          "metadata": {},
          "execution_count": 46
        }
      ]
    },
    {
      "cell_type": "code",
      "source": [
        "sorted_importances_idx"
      ],
      "metadata": {
        "colab": {
          "base_uri": "https://localhost:8080/"
        },
        "id": "BWUDl4cPtd8f",
        "outputId": "84385c4a-88fe-4b4b-a730-cf3f0fab06c0"
      },
      "execution_count": null,
      "outputs": [
        {
          "output_type": "execute_result",
          "data": {
            "text/plain": [
              "array([7, 6, 2, 1, 5, 4, 0, 3])"
            ]
          },
          "metadata": {},
          "execution_count": 37
        }
      ]
    },
    {
      "cell_type": "code",
      "source": [],
      "metadata": {
        "id": "W4-zIKR3tkWH"
      },
      "execution_count": null,
      "outputs": []
    },
    {
      "cell_type": "code",
      "source": [
        "ax = importances.plot.box(vert=False, whis=10)\n",
        "ax.set_title(\"Permutation Importances (train set)Random Forest\")\n",
        "ax.axvline(x=0, color=\"navy\", linestyle=\"--\")\n",
        "ax.set_xlabel(\"Decrease in accuracy score\")\n",
        "ax.figure.tight_layout()"
      ],
      "metadata": {
        "colab": {
          "base_uri": "https://localhost:8080/",
          "height": 297
        },
        "id": "rbUBEmcRsv6H",
        "outputId": "5754fa3b-d74b-43b0-c655-2a592dc36ea7"
      },
      "execution_count": null,
      "outputs": [
        {
          "output_type": "display_data",
          "data": {
            "text/plain": [
              "<Figure size 432x288 with 1 Axes>"
            ],
            "image/png": "[encoded data removed]"
          },
          "metadata": {
            "needs_background": "light"
          }
        }
      ]
    },
    {
      "cell_type": "code",
      "source": [],
      "metadata": {
        "id": "wPUE8rjezWHA"
      },
      "execution_count": null,
      "outputs": []
    },
    {
      "cell_type": "code",
      "execution_count": null,
      "metadata": {
        "colab": {
          "base_uri": "https://localhost:8080/"
        },
        "id": "KWV56adhsxRn",
        "outputId": "0084e6f5-22ea-486b-d29d-c79f08cd8725"
      },
      "outputs": [
        {
          "output_type": "stream",
          "name": "stdout",
          "text": [
            "Mean Absolute Error: 17.066091900841396\n",
            "Mean Squared Error: 1507.7771615237166\n",
            "Root Mean Squared Error: 38.83010638053567\n"
          ]
        }
      ],
      "source": [
        "from sklearn import metrics\n",
        "\n",
        "print('Mean Absolute Error:', metrics.mean_absolute_error(y_test, y_pred))\n",
        "print('Mean Squared Error:', metrics.mean_squared_error(y_test, y_pred))\n",
        "print('Root Mean Squared Error:', np.sqrt(metrics.mean_squared_error(y_test, y_pred)))\n"
      ]
    },
    {
      "cell_type": "code",
      "source": [],
      "metadata": {
        "id": "Npu9cY5VzU1H"
      },
      "execution_count": null,
      "outputs": []
    },
    {
      "cell_type": "code",
      "execution_count": null,
      "metadata": {
        "colab": {
          "base_uri": "https://localhost:8080/"
        },
        "id": "MIFSAJqFsxRn",
        "outputId": "30b02306-8c54-40df-d5a2-ba66095c1492"
      },
      "outputs": [
        {
          "output_type": "execute_result",
          "data": {
            "text/plain": [
              "array([1.43355516e-01, 4.63109285e-02, 5.81892300e-04, 6.79732024e-01,\n",
              "       6.89721250e-02, 6.02326267e-02, 5.00006723e-04, 3.14881184e-04])"
            ]
          },
          "metadata": {},
          "execution_count": 20
        }
      ],
      "source": [
        "regressor.feature_importances_"
      ]
    },
    {
      "cell_type": "code",
      "execution_count": null,
      "metadata": {
        "colab": {
          "base_uri": "https://localhost:8080/"
        },
        "id": "y0F-QvcysxRn",
        "outputId": "f886b091-e459-4466-d8ab-3ab77f5130cd"
      },
      "outputs": [
        {
          "output_type": "execute_result",
          "data": {
            "text/plain": [
              "Index(['Actual', 'Predicted'], dtype='object')"
            ]
          },
          "metadata": {},
          "execution_count": 21
        }
      ],
      "source": [
        "df.columns"
      ]
    },
    {
      "cell_type": "code",
      "source": [
        "from sklearn.model_selection import cross_val_score\n",
        "\n",
        "accuracies = cross_val_score(estimator = regressor, X = x_test_scaled, y = y_test, cv = 10)\n",
        "accuracies.mean()\n",
        "accuracies.std()"
      ],
      "metadata": {
        "colab": {
          "base_uri": "https://localhost:8080/"
        },
        "id": "d9HvZnJ3p-69",
        "outputId": "01fdf758-4b35-452e-a2cd-2026245ae069"
      },
      "execution_count": null,
      "outputs": [
        {
          "output_type": "execute_result",
          "data": {
            "text/plain": [
              "0.022237088373185415"
            ]
          },
          "metadata": {},
          "execution_count": 23
        }
      ]
    },
    {
      "cell_type": "code",
      "source": [
        "accuracies.mean()"
      ],
      "metadata": {
        "colab": {
          "base_uri": "https://localhost:8080/"
        },
        "id": "6zm4wRTFqOnO",
        "outputId": "f927f4c2-e821-4aab-f9c1-d77852096f06"
      },
      "execution_count": null,
      "outputs": [
        {
          "output_type": "execute_result",
          "data": {
            "text/plain": [
              "0.9509182853771708"
            ]
          },
          "metadata": {},
          "execution_count": 24
        }
      ]
    },
    {
      "cell_type": "code",
      "execution_count": null,
      "metadata": {
        "id": "z6Kpyh3osxRn"
      },
      "outputs": [],
      "source": [
        "from sklearn.metrics import mean_absolute_error "
      ]
    },
    {
      "cell_type": "code",
      "execution_count": null,
      "metadata": {
        "id": "-TF4u254sxRn"
      },
      "outputs": [],
      "source": [
        "regression_model = LinearRegression()\n",
        "# Fit the data(train the model)\n",
        "regression_model.fit(x, y)\n",
        "# Predict\n",
        "y_predicted = regression_model.predict(x)\n",
        "regression_model.fit(x_train,y_train)\n",
        "# model evaluation\n",
        "rmse = mean_squared_error(y, y_predicted)\n",
        "mse = mean_squared_error(y, y_predicted)\n",
        "mae = mean_absolute_error(y, y_predicted)\n",
        "r2 = r2_score(y, y_predicted)\n",
        "regression_model.score(x_test,y_test)\n",
        "from sklearn import metrics"
      ]
    },
    {
      "cell_type": "code",
      "source": [
        "permuter = PermutationImportance(\n",
        "    estimator=regression_model,\n",
        "    scoring='r2',\n",
        "    n_iter=5,\n",
        "    random_state=42)\n",
        "permuter.fit(x_test,y_test)"
      ],
      "metadata": {
        "id": "11vAe7R9Gwm2",
        "colab": {
          "base_uri": "https://localhost:8080/"
        },
        "outputId": "f0f3349c-57a5-4fe7-957e-6328d706cf91"
      },
      "execution_count": null,
      "outputs": [
        {
          "output_type": "execute_result",
          "data": {
            "text/plain": [
              "PermutationImportance(estimator=LinearRegression(), random_state=42,\n",
              "                      scoring='r2')"
            ]
          },
          "metadata": {},
          "execution_count": 55
        }
      ]
    },
    {
      "cell_type": "code",
      "source": [
        "result = permutation_importance(\n",
        "    regression_model, x_train, y_train, n_repeats=10, random_state=42, n_jobs=2\n",
        ")\n",
        "\n",
        "sorted_importances_idx = result.importances_mean.argsort()\n",
        "importances = pd.DataFrame(\n",
        "    result.importances[sorted_importances_idx].T\n",
        ")"
      ],
      "metadata": {
        "id": "YzJE-xp93fXK"
      },
      "execution_count": null,
      "outputs": []
    },
    {
      "cell_type": "code",
      "source": [
        "ax = importances.plot.box(vert=False, whis=10)\n",
        "ax.set_title(\"Permutation Importances (train set)Linear Regression\")\n",
        "ax.axvline(x=0, color=\"navy\", linestyle=\"--\")\n",
        "ax.set_xlabel(\"Decrease in accuracy score\")\n",
        "ax.figure.tight_layout()"
      ],
      "metadata": {
        "colab": {
          "base_uri": "https://localhost:8080/",
          "height": 297
        },
        "id": "qlKKNV7Z3pDk",
        "outputId": "2722d543-179f-412d-ae8c-f7e82e280603"
      },
      "execution_count": null,
      "outputs": [
        {
          "output_type": "display_data",
          "data": {
            "text/plain": [
              "<Figure size 432x288 with 1 Axes>"
            ],
            "image/png": "[encoded data removed]"
          },
          "metadata": {
            "needs_background": "light"
          }
        }
      ]
    },
    {
      "cell_type": "code",
      "source": [
        "importances"
      ],
      "metadata": {
        "colab": {
          "base_uri": "https://localhost:8080/",
          "height": 322
        },
        "id": "ggeG3cz83sH8",
        "outputId": "5135f67a-81c7-4330-f13e-840820d50fb2"
      },
      "execution_count": null,
      "outputs": [
        {
          "output_type": "execute_result",
          "data": {
            "text/plain": [
              "          0         1             2             3             4             5  \\\n",
              "0  0.039649  1.240622  7.134207e+22  2.955048e+23  1.716397e+25  2.196371e+25   \n",
              "1  0.042267  1.317915  6.671135e+22  2.862122e+23  1.662423e+25  2.127303e+25   \n",
              "2  0.038610  1.354212  7.024227e+22  3.010803e+23  1.748782e+25  2.237812e+25   \n",
              "3  0.032345  1.256098  7.047381e+22  2.955048e+23  1.716397e+25  2.196371e+25   \n",
              "4  0.043555  1.399330  6.653769e+22  2.992218e+23  1.737987e+25  2.223999e+25   \n",
              "5  0.045082  1.247930  6.908459e+22  2.787781e+23  1.619243e+25  2.072048e+25   \n",
              "6  0.030896  1.363994  6.850575e+22  2.880707e+23  1.673217e+25  2.141117e+25   \n",
              "7  0.045070  1.251219  7.003968e+22  2.862122e+23  1.662423e+25  2.127303e+25   \n",
              "8  0.039275  1.346874  6.743490e+22  2.824951e+23  1.640833e+25  2.099676e+25   \n",
              "9  0.040019  1.257473  6.873729e+22  2.862122e+23  1.662423e+25  2.127303e+25   \n",
              "\n",
              "              6             7  \n",
              "0  6.712403e+25  7.157202e+25  \n",
              "1  6.276709e+25  6.692637e+25  \n",
              "2  6.608926e+25  7.046868e+25  \n",
              "3  6.630710e+25  7.070096e+25  \n",
              "4  6.260371e+25  6.675216e+25  \n",
              "5  6.500002e+25  6.930727e+25  \n",
              "6  6.445541e+25  6.872656e+25  \n",
              "7  6.589864e+25  7.026543e+25  \n",
              "8  6.344787e+25  6.765226e+25  \n",
              "9  6.467325e+25  6.895884e+25  "
            ],
            "text/html": [
              "\n",
              "  <div id=\"df-5767b5ef-b837-49e6-bbae-afbcaeba4de4\">\n",
              "    <div class=\"colab-df-container\">\n",
              "      <div>\n",
              "<style scoped>\n",
              "    .dataframe tbody tr th:only-of-type {\n",
              "        vertical-align: middle;\n",
              "    }\n",
              "\n",
              "    .dataframe tbody tr th {\n",
              "        vertical-align: top;\n",
              "    }\n",
              "\n",
              "    .dataframe thead th {\n",
              "        text-align: right;\n",
              "    }\n",
              "</style>\n",
              "<table border=\"1\" class=\"dataframe\">\n",
              "  <thead>\n",
              "    <tr style=\"text-align: right;\">\n",
              "      <th></th>\n",
              "      <th>0</th>\n",
              "      <th>1</th>\n",
              "      <th>2</th>\n",
              "      <th>3</th>\n",
              "      <th>4</th>\n",
              "      <th>5</th>\n",
              "      <th>6</th>\n",
              "      <th>7</th>\n",
              "    </tr>\n",
              "  </thead>\n",
              "  <tbody>\n",
              "    <tr>\n",
              "      <th>0</th>\n",
              "      <td>0.039649</td>\n",
              "      <td>1.240622</td>\n",
              "      <td>7.134207e+22</td>\n",
              "      <td>2.955048e+23</td>\n",
              "      <td>1.716397e+25</td>\n",
              "      <td>2.196371e+25</td>\n",
              "      <td>6.712403e+25</td>\n",
              "      <td>7.157202e+25</td>\n",
              "    </tr>\n",
              "    <tr>\n",
              "      <th>1</th>\n",
              "      <td>0.042267</td>\n",
              "      <td>1.317915</td>\n",
              "      <td>6.671135e+22</td>\n",
              "      <td>2.862122e+23</td>\n",
              "      <td>1.662423e+25</td>\n",
              "      <td>2.127303e+25</td>\n",
              "      <td>6.276709e+25</td>\n",
              "      <td>6.692637e+25</td>\n",
              "    </tr>\n",
              "    <tr>\n",
              "      <th>2</th>\n",
              "      <td>0.038610</td>\n",
              "      <td>1.354212</td>\n",
              "      <td>7.024227e+22</td>\n",
              "      <td>3.010803e+23</td>\n",
              "      <td>1.748782e+25</td>\n",
              "      <td>2.237812e+25</td>\n",
              "      <td>6.608926e+25</td>\n",
              "      <td>7.046868e+25</td>\n",
              "    </tr>\n",
              "    <tr>\n",
              "      <th>3</th>\n",
              "      <td>0.032345</td>\n",
              "      <td>1.256098</td>\n",
              "      <td>7.047381e+22</td>\n",
              "      <td>2.955048e+23</td>\n",
              "      <td>1.716397e+25</td>\n",
              "      <td>2.196371e+25</td>\n",
              "      <td>6.630710e+25</td>\n",
              "      <td>7.070096e+25</td>\n",
              "    </tr>\n",
              "    <tr>\n",
              "      <th>4</th>\n",
              "      <td>0.043555</td>\n",
              "      <td>1.399330</td>\n",
              "      <td>6.653769e+22</td>\n",
              "      <td>2.992218e+23</td>\n",
              "      <td>1.737987e+25</td>\n",
              "      <td>2.223999e+25</td>\n",
              "      <td>6.260371e+25</td>\n",
              "      <td>6.675216e+25</td>\n",
              "    </tr>\n",
              "    <tr>\n",
              "      <th>5</th>\n",
              "      <td>0.045082</td>\n",
              "      <td>1.247930</td>\n",
              "      <td>6.908459e+22</td>\n",
              "      <td>2.787781e+23</td>\n",
              "      <td>1.619243e+25</td>\n",
              "      <td>2.072048e+25</td>\n",
              "      <td>6.500002e+25</td>\n",
              "      <td>6.930727e+25</td>\n",
              "    </tr>\n",
              "    <tr>\n",
              "      <th>6</th>\n",
              "      <td>0.030896</td>\n",
              "      <td>1.363994</td>\n",
              "      <td>6.850575e+22</td>\n",
              "      <td>2.880707e+23</td>\n",
              "      <td>1.673217e+25</td>\n",
              "      <td>2.141117e+25</td>\n",
              "      <td>6.445541e+25</td>\n",
              "      <td>6.872656e+25</td>\n",
              "    </tr>\n",
              "    <tr>\n",
              "      <th>7</th>\n",
              "      <td>0.045070</td>\n",
              "      <td>1.251219</td>\n",
              "      <td>7.003968e+22</td>\n",
              "      <td>2.862122e+23</td>\n",
              "      <td>1.662423e+25</td>\n",
              "      <td>2.127303e+25</td>\n",
              "      <td>6.589864e+25</td>\n",
              "      <td>7.026543e+25</td>\n",
              "    </tr>\n",
              "    <tr>\n",
              "      <th>8</th>\n",
              "      <td>0.039275</td>\n",
              "      <td>1.346874</td>\n",
              "      <td>6.743490e+22</td>\n",
              "      <td>2.824951e+23</td>\n",
              "      <td>1.640833e+25</td>\n",
              "      <td>2.099676e+25</td>\n",
              "      <td>6.344787e+25</td>\n",
              "      <td>6.765226e+25</td>\n",
              "    </tr>\n",
              "    <tr>\n",
              "      <th>9</th>\n",
              "      <td>0.040019</td>\n",
              "      <td>1.257473</td>\n",
              "      <td>6.873729e+22</td>\n",
              "      <td>2.862122e+23</td>\n",
              "      <td>1.662423e+25</td>\n",
              "      <td>2.127303e+25</td>\n",
              "      <td>6.467325e+25</td>\n",
              "      <td>6.895884e+25</td>\n",
              "    </tr>\n",
              "  </tbody>\n",
              "</table>\n",
              "</div>\n",
              "      <button class=\"colab-df-convert\" onclick=\"convertToInteractive('df-5767b5ef-b837-49e6-bbae-afbcaeba4de4')\"\n",
              "              title=\"Convert this dataframe to an interactive table.\"\n",
              "              style=\"display:none;\">\n",
              "        \n",
              "  <svg xmlns=\"http://www.w3.org/2000/svg\" height=\"24px\"viewBox=\"0 0 24 24\"\n",
              "       width=\"24px\">\n",
              "    <path d=\"M0 0h24v24H0V0z\" fill=\"none\"/>\n",
              "    <path d=\"M18.56 5.44l.94 2.06.94-2.06 2.06-.94-2.06-.94-.94-2.06-.94 2.06-2.06.94zm-11 1L8.5 8.5l.94-2.06 2.06-.94-2.06-.94L8.5 2.5l-.94 2.06-2.06.94zm10 10l.94 2.06.94-2.06 2.06-.94-2.06-.94-.94-2.06-.94 2.06-2.06.94z\"/><path d=\"M17.41 7.96l-1.37-1.37c-.4-.4-.92-.59-1.43-.59-.52 0-1.04.2-1.43.59L10.3 9.45l-7.72 7.72c-.78.78-.78 2.05 0 2.83L4 21.41c.39.39.9.59 1.41.59.51 0 1.02-.2 1.41-.59l7.78-7.78 2.81-2.81c.8-.78.8-2.07 0-2.86zM5.41 20L4 18.59l7.72-7.72 1.47 1.35L5.41 20z\"/>\n",
              "  </svg>\n",
              "      </button>\n",
              "      \n",
              "  <style>\n",
              "    .colab-df-container {\n",
              "      display:flex;\n",
              "      flex-wrap:wrap;\n",
              "      gap: 12px;\n",
              "    }\n",
              "\n",
              "    .colab-df-convert {\n",
              "      background-color: #E8F0FE;\n",
              "      border: none;\n",
              "      border-radius: 50%;\n",
              "      cursor: pointer;\n",
              "      display: none;\n",
              "      fill: #1967D2;\n",
              "      height: 32px;\n",
              "      padding: 0 0 0 0;\n",
              "      width: 32px;\n",
              "    }\n",
              "\n",
              "    .colab-df-convert:hover {\n",
              "      background-color: #E2EBFA;\n",
              "      box-shadow: 0px 1px 2px rgba(60, 64, 67, 0.3), 0px 1px 3px 1px rgba(60, 64, 67, 0.15);\n",
              "      fill: #174EA6;\n",
              "    }\n",
              "\n",
              "    [theme=dark] .colab-df-convert {\n",
              "      background-color: #3B4455;\n",
              "      fill: #D2E3FC;\n",
              "    }\n",
              "\n",
              "    [theme=dark] .colab-df-convert:hover {\n",
              "      background-color: #434B5C;\n",
              "      box-shadow: 0px 1px 3px 1px rgba(0, 0, 0, 0.15);\n",
              "      filter: drop-shadow(0px 1px 2px rgba(0, 0, 0, 0.3));\n",
              "      fill: #FFFFFF;\n",
              "    }\n",
              "  </style>\n",
              "\n",
              "      <script>\n",
              "        const buttonEl =\n",
              "          document.querySelector('#df-5767b5ef-b837-49e6-bbae-afbcaeba4de4 button.colab-df-convert');\n",
              "        buttonEl.style.display =\n",
              "          google.colab.kernel.accessAllowed ? 'block' : 'none';\n",
              "\n",
              "        async function convertToInteractive(key) {\n",
              "          const element = document.querySelector('#df-5767b5ef-b837-49e6-bbae-afbcaeba4de4');\n",
              "          const dataTable =\n",
              "            await google.colab.kernel.invokeFunction('convertToInteractive',\n",
              "                                                     [key], {});\n",
              "          if (!dataTable) return;\n",
              "\n",
              "          const docLinkHtml = 'Like what you see? Visit the ' +\n",
              "            '<a target=\"_blank\" href=https://colab.research.google.com/notebooks/data_table.ipynb>data table notebook</a>'\n",
              "            + ' to learn more about interactive tables.';\n",
              "          element.innerHTML = '';\n",
              "          dataTable['output_type'] = 'display_data';\n",
              "          await google.colab.output.renderOutput(dataTable, element);\n",
              "          const docLink = document.createElement('div');\n",
              "          docLink.innerHTML = docLinkHtml;\n",
              "          element.appendChild(docLink);\n",
              "        }\n",
              "      </script>\n",
              "    </div>\n",
              "  </div>\n",
              "  "
            ]
          },
          "metadata": {},
          "execution_count": 58
        }
      ]
    },
    {
      "cell_type": "code",
      "source": [
        "sorted_importances_idx"
      ],
      "metadata": {
        "colab": {
          "base_uri": "https://localhost:8080/"
        },
        "id": "XTdPmPZw3xkl",
        "outputId": "1415af50-4b3e-4cfe-d48f-24c68d47cacd"
      },
      "execution_count": null,
      "outputs": [
        {
          "output_type": "execute_result",
          "data": {
            "text/plain": [
              "array([2, 1, 7, 5, 0, 6, 4, 3])"
            ]
          },
          "metadata": {},
          "execution_count": 42
        }
      ]
    },
    {
      "cell_type": "code",
      "execution_count": null,
      "metadata": {
        "colab": {
          "base_uri": "https://localhost:8080/"
        },
        "id": "GLaOROiFsxRn",
        "outputId": "089861ae-45bf-465d-aeeb-83bd38e1d990"
      },
      "outputs": [
        {
          "output_type": "stream",
          "name": "stdout",
          "text": [
            "Slope: [ 2.49342200e+01 -1.00116514e+15 -5.74443526e+14  1.40687500e+02\n",
            "  1.03380435e+15 -3.26392039e+13  5.07812469e+14  6.66310574e+13]\n",
            "Intercept: 113.026313790101\n",
            "Root mean squared error:  8497.097841478593\n",
            "R2 score:  0.7267049600431809\n",
            "Coefficients: \n",
            " [ 2.49342200e+01 -1.00116514e+15 -5.74443526e+14  1.40687500e+02\n",
            "  1.03380435e+15 -3.26392039e+13  5.07812469e+14  6.66310574e+13]\n",
            "Mean Squared Error:  8497.097841478593\n",
            "Mean Absolute Error:  56.49930168703813\n"
          ]
        },
        {
          "output_type": "execute_result",
          "data": {
            "text/plain": [
              "113.026313790101"
            ]
          },
          "metadata": {},
          "execution_count": 34
        }
      ],
      "source": [
        "print('Slope:' ,regression_model.coef_)\n",
        "print('Intercept:', regression_model.intercept_)\n",
        "print('Root mean squared error: ', rmse)\n",
        "print('R2 score: ', r2)\n",
        "print('Coefficients: \\n', regression_model.coef_) \n",
        "print('Mean Squared Error: ', mse)\n",
        "print('Mean Absolute Error: ', mae)\n",
        "regression_model.coef_\n",
        "regression_model.intercept_"
      ]
    },
    {
      "cell_type": "code",
      "execution_count": null,
      "metadata": {
        "colab": {
          "base_uri": "https://localhost:8080/"
        },
        "id": "OWNtuVqasxRn",
        "outputId": "e039ff3f-57be-47b7-83f3-e1c7b456fcfa"
      },
      "outputs": [
        {
          "output_type": "stream",
          "name": "stdout",
          "text": [
            "Mean Absolute Error: 17.066091900841396\n",
            "Mean Squared Error: 1507.7771615237166\n",
            "Root Mean Squared Error: 38.83010638053567\n"
          ]
        }
      ],
      "source": [
        "from sklearn import metrics\n",
        "\n",
        "print('Mean Absolute Error:', metrics.mean_absolute_error(y_test, y_pred))\n",
        "print('Mean Squared Error:', metrics.mean_squared_error(y_test, y_pred))\n",
        "print('Root Mean Squared Error:', np.sqrt(metrics.mean_squared_error(y_test, y_pred)))"
      ]
    },
    {
      "cell_type": "code",
      "execution_count": null,
      "metadata": {
        "id": "b0GhNPMHsxRo"
      },
      "outputs": [],
      "source": [
        "def get_score(model,x_train,x_test,y_train,y_test):\n",
        "    model.fit(x_train,y_train)\n",
        "    return model.score(x_test,y_test)"
      ]
    },
    {
      "cell_type": "code",
      "execution_count": null,
      "metadata": {
        "colab": {
          "base_uri": "https://localhost:8080/"
        },
        "id": "ZhXP42gKsxRo",
        "outputId": "a956603e-c4f1-4adc-f51c-caba19b2b769"
      },
      "outputs": [
        {
          "output_type": "execute_result",
          "data": {
            "text/plain": [
              "0.7391775311674722"
            ]
          },
          "metadata": {},
          "execution_count": 48
        }
      ],
      "source": [
        "get_score(LinearRegression(),x_train,x_test,y_train,y_test)"
      ]
    },
    {
      "cell_type": "code",
      "execution_count": null,
      "metadata": {
        "colab": {
          "base_uri": "https://localhost:8080/"
        },
        "id": "OQY00G3usxRo",
        "outputId": "8039889d-8736-48e8-8df5-c2d72bf177b9"
      },
      "outputs": [
        {
          "output_type": "execute_result",
          "data": {
            "text/plain": [
              "0.9536632619279422"
            ]
          },
          "metadata": {},
          "execution_count": 38
        }
      ],
      "source": [
        "get_score(RandomForestRegressor() ,x_train,x_test,y_train,y_test)"
      ]
    },
    {
      "cell_type": "code",
      "source": [
        "regressor.score(x_train,y_train)"
      ],
      "metadata": {
        "id": "YvrEEXwimePH",
        "colab": {
          "base_uri": "https://localhost:8080/"
        },
        "outputId": "235a42f6-8eec-4913-9b5e-dd9d004e00b0"
      },
      "execution_count": null,
      "outputs": [
        {
          "output_type": "execute_result",
          "data": {
            "text/plain": [
              "0.9543020778584539"
            ]
          },
          "metadata": {},
          "execution_count": 39
        }
      ]
    },
    {
      "cell_type": "code",
      "source": [
        "regressor.score(x_test,y_test)"
      ],
      "metadata": {
        "colab": {
          "base_uri": "https://localhost:8080/"
        },
        "id": "jZPVaxn80cXs",
        "outputId": "6911d214-9bd1-484f-ba85-f08a2065fba6"
      },
      "execution_count": null,
      "outputs": [
        {
          "output_type": "execute_result",
          "data": {
            "text/plain": [
              "0.9536083642038665"
            ]
          },
          "metadata": {},
          "execution_count": 40
        }
      ]
    },
    {
      "cell_type": "code",
      "execution_count": null,
      "metadata": {
        "id": "HN_vcmplsxRo"
      },
      "outputs": [],
      "source": [
        "from sklearn.tree import DecisionTreeRegressor\n",
        "tree = DecisionTreeRegressor(max_depth = 40)\n",
        "tree.fit(x_train, y_train)\n",
        "y_predic = tree.predict(x_test)"
      ]
    },
    {
      "cell_type": "code",
      "source": [
        "permuter = PermutationImportance(\n",
        "    estimator=tree,\n",
        "    scoring='r2',\n",
        "    n_iter=5,\n",
        "    random_state=42)\n",
        "permuter.fit(x_test,y_test)"
      ],
      "metadata": {
        "colab": {
          "base_uri": "https://localhost:8080/"
        },
        "id": "BE3ScpvQ2YvN",
        "outputId": "96719459-7604-4718-a112-90bcb2f42121"
      },
      "execution_count": null,
      "outputs": [
        {
          "output_type": "execute_result",
          "data": {
            "text/plain": [
              "PermutationImportance(estimator=DecisionTreeRegressor(max_depth=40),\n",
              "                      random_state=42, scoring='r2')"
            ]
          },
          "metadata": {},
          "execution_count": 50
        }
      ]
    },
    {
      "cell_type": "code",
      "source": [
        "result = permutation_importance(\n",
        "    tree, x_train, y_train, n_repeats=10, random_state=42, n_jobs=2\n",
        ")\n",
        "\n",
        "sorted_importances_idx = result.importances_mean.argsort()\n",
        "importances = pd.DataFrame(\n",
        "    result.importances[sorted_importances_idx].T\n",
        ")"
      ],
      "metadata": {
        "id": "uzZnXYZb2rth"
      },
      "execution_count": null,
      "outputs": []
    },
    {
      "cell_type": "code",
      "source": [
        "ax = importances.plot.box(vert=False, whis=10)\n",
        "ax.set_title(\"Permutation Importances (train set)Decision Tree\")\n",
        "ax.axvline(x=0, color=\"navy\", linestyle=\"--\")\n",
        "ax.set_xlabel(\"Decrease in accuracy score\")\n",
        "ax.figure.tight_layout()"
      ],
      "metadata": {
        "colab": {
          "base_uri": "https://localhost:8080/",
          "height": 297
        },
        "id": "MwLdv-tL2XF7",
        "outputId": "c4ad2dd9-66fa-4a3b-e93c-9c8b1ebd7d69"
      },
      "execution_count": null,
      "outputs": [
        {
          "output_type": "display_data",
          "data": {
            "text/plain": [
              "<Figure size 432x288 with 1 Axes>"
            ],
            "image/png": "[encoded data removed]"
          },
          "metadata": {
            "needs_background": "light"
          }
        }
      ]
    },
    {
      "cell_type": "code",
      "source": [
        "importances"
      ],
      "metadata": {
        "colab": {
          "base_uri": "https://localhost:8080/",
          "height": 322
        },
        "id": "DF3bphca2-7T",
        "outputId": "3a0a9159-afcd-42e5-d1f5-f9a6dc88f97d"
      },
      "execution_count": null,
      "outputs": [
        {
          "output_type": "execute_result",
          "data": {
            "text/plain": [
              "     0    1         2         3         4         5         6         7\n",
              "0  0.0  0.0  0.000331  0.002395  0.007267  0.273943  0.419475  1.396370\n",
              "1  0.0  0.0  0.000279  0.002366  0.004915  0.308587  0.365574  1.574667\n",
              "2  0.0  0.0  0.000199  0.002503  0.004043  0.272412  0.364541  1.663889\n",
              "3  0.0  0.0  0.000259  0.002375  0.008230  0.283466  0.411984  1.476154\n",
              "4  0.0  0.0  0.000282  0.002375  0.004184  0.288424  0.387823  1.625076\n",
              "5  0.0  0.0  0.000334  0.002272  0.006813  0.288856  0.466213  1.457857\n",
              "6  0.0  0.0  0.000245  0.002375  0.003472  0.232064  0.409574  1.577416\n",
              "7  0.0  0.0  0.000315  0.002325  0.005409  0.302673  0.346191  1.516074\n",
              "8  0.0  0.0  0.000313  0.002188  0.007464  0.274164  0.444492  1.616493\n",
              "9  0.0  0.0  0.000236  0.002259  0.003372  0.315006  0.442167  1.498896"
            ],
            "text/html": [
              "\n",
              "  <div id=\"df-c82b3d40-2d62-4cb0-aafc-df48ae4820c3\">\n",
              "    <div class=\"colab-df-container\">\n",
              "      <div>\n",
              "<style scoped>\n",
              "    .dataframe tbody tr th:only-of-type {\n",
              "        vertical-align: middle;\n",
              "    }\n",
              "\n",
              "    .dataframe tbody tr th {\n",
              "        vertical-align: top;\n",
              "    }\n",
              "\n",
              "    .dataframe thead th {\n",
              "        text-align: right;\n",
              "    }\n",
              "</style>\n",
              "<table border=\"1\" class=\"dataframe\">\n",
              "  <thead>\n",
              "    <tr style=\"text-align: right;\">\n",
              "      <th></th>\n",
              "      <th>0</th>\n",
              "      <th>1</th>\n",
              "      <th>2</th>\n",
              "      <th>3</th>\n",
              "      <th>4</th>\n",
              "      <th>5</th>\n",
              "      <th>6</th>\n",
              "      <th>7</th>\n",
              "    </tr>\n",
              "  </thead>\n",
              "  <tbody>\n",
              "    <tr>\n",
              "      <th>0</th>\n",
              "      <td>0.0</td>\n",
              "      <td>0.0</td>\n",
              "      <td>0.000331</td>\n",
              "      <td>0.002395</td>\n",
              "      <td>0.007267</td>\n",
              "      <td>0.273943</td>\n",
              "      <td>0.419475</td>\n",
              "      <td>1.396370</td>\n",
              "    </tr>\n",
              "    <tr>\n",
              "      <th>1</th>\n",
              "      <td>0.0</td>\n",
              "      <td>0.0</td>\n",
              "      <td>0.000279</td>\n",
              "      <td>0.002366</td>\n",
              "      <td>0.004915</td>\n",
              "      <td>0.308587</td>\n",
              "      <td>0.365574</td>\n",
              "      <td>1.574667</td>\n",
              "    </tr>\n",
              "    <tr>\n",
              "      <th>2</th>\n",
              "      <td>0.0</td>\n",
              "      <td>0.0</td>\n",
              "      <td>0.000199</td>\n",
              "      <td>0.002503</td>\n",
              "      <td>0.004043</td>\n",
              "      <td>0.272412</td>\n",
              "      <td>0.364541</td>\n",
              "      <td>1.663889</td>\n",
              "    </tr>\n",
              "    <tr>\n",
              "      <th>3</th>\n",
              "      <td>0.0</td>\n",
              "      <td>0.0</td>\n",
              "      <td>0.000259</td>\n",
              "      <td>0.002375</td>\n",
              "      <td>0.008230</td>\n",
              "      <td>0.283466</td>\n",
              "      <td>0.411984</td>\n",
              "      <td>1.476154</td>\n",
              "    </tr>\n",
              "    <tr>\n",
              "      <th>4</th>\n",
              "      <td>0.0</td>\n",
              "      <td>0.0</td>\n",
              "      <td>0.000282</td>\n",
              "      <td>0.002375</td>\n",
              "      <td>0.004184</td>\n",
              "      <td>0.288424</td>\n",
              "      <td>0.387823</td>\n",
              "      <td>1.625076</td>\n",
              "    </tr>\n",
              "    <tr>\n",
              "      <th>5</th>\n",
              "      <td>0.0</td>\n",
              "      <td>0.0</td>\n",
              "      <td>0.000334</td>\n",
              "      <td>0.002272</td>\n",
              "      <td>0.006813</td>\n",
              "      <td>0.288856</td>\n",
              "      <td>0.466213</td>\n",
              "      <td>1.457857</td>\n",
              "    </tr>\n",
              "    <tr>\n",
              "      <th>6</th>\n",
              "      <td>0.0</td>\n",
              "      <td>0.0</td>\n",
              "      <td>0.000245</td>\n",
              "      <td>0.002375</td>\n",
              "      <td>0.003472</td>\n",
              "      <td>0.232064</td>\n",
              "      <td>0.409574</td>\n",
              "      <td>1.577416</td>\n",
              "    </tr>\n",
              "    <tr>\n",
              "      <th>7</th>\n",
              "      <td>0.0</td>\n",
              "      <td>0.0</td>\n",
              "      <td>0.000315</td>\n",
              "      <td>0.002325</td>\n",
              "      <td>0.005409</td>\n",
              "      <td>0.302673</td>\n",
              "      <td>0.346191</td>\n",
              "      <td>1.516074</td>\n",
              "    </tr>\n",
              "    <tr>\n",
              "      <th>8</th>\n",
              "      <td>0.0</td>\n",
              "      <td>0.0</td>\n",
              "      <td>0.000313</td>\n",
              "      <td>0.002188</td>\n",
              "      <td>0.007464</td>\n",
              "      <td>0.274164</td>\n",
              "      <td>0.444492</td>\n",
              "      <td>1.616493</td>\n",
              "    </tr>\n",
              "    <tr>\n",
              "      <th>9</th>\n",
              "      <td>0.0</td>\n",
              "      <td>0.0</td>\n",
              "      <td>0.000236</td>\n",
              "      <td>0.002259</td>\n",
              "      <td>0.003372</td>\n",
              "      <td>0.315006</td>\n",
              "      <td>0.442167</td>\n",
              "      <td>1.498896</td>\n",
              "    </tr>\n",
              "  </tbody>\n",
              "</table>\n",
              "</div>\n",
              "      <button class=\"colab-df-convert\" onclick=\"convertToInteractive('df-c82b3d40-2d62-4cb0-aafc-df48ae4820c3')\"\n",
              "              title=\"Convert this dataframe to an interactive table.\"\n",
              "              style=\"display:none;\">\n",
              "        \n",
              "  <svg xmlns=\"http://www.w3.org/2000/svg\" height=\"24px\"viewBox=\"0 0 24 24\"\n",
              "       width=\"24px\">\n",
              "    <path d=\"M0 0h24v24H0V0z\" fill=\"none\"/>\n",
              "    <path d=\"M18.56 5.44l.94 2.06.94-2.06 2.06-.94-2.06-.94-.94-2.06-.94 2.06-2.06.94zm-11 1L8.5 8.5l.94-2.06 2.06-.94-2.06-.94L8.5 2.5l-.94 2.06-2.06.94zm10 10l.94 2.06.94-2.06 2.06-.94-2.06-.94-.94-2.06-.94 2.06-2.06.94z\"/><path d=\"M17.41 7.96l-1.37-1.37c-.4-.4-.92-.59-1.43-.59-.52 0-1.04.2-1.43.59L10.3 9.45l-7.72 7.72c-.78.78-.78 2.05 0 2.83L4 21.41c.39.39.9.59 1.41.59.51 0 1.02-.2 1.41-.59l7.78-7.78 2.81-2.81c.8-.78.8-2.07 0-2.86zM5.41 20L4 18.59l7.72-7.72 1.47 1.35L5.41 20z\"/>\n",
              "  </svg>\n",
              "      </button>\n",
              "      \n",
              "  <style>\n",
              "    .colab-df-container {\n",
              "      display:flex;\n",
              "      flex-wrap:wrap;\n",
              "      gap: 12px;\n",
              "    }\n",
              "\n",
              "    .colab-df-convert {\n",
              "      background-color: #E8F0FE;\n",
              "      border: none;\n",
              "      border-radius: 50%;\n",
              "      cursor: pointer;\n",
              "      display: none;\n",
              "      fill: #1967D2;\n",
              "      height: 32px;\n",
              "      padding: 0 0 0 0;\n",
              "      width: 32px;\n",
              "    }\n",
              "\n",
              "    .colab-df-convert:hover {\n",
              "      background-color: #E2EBFA;\n",
              "      box-shadow: 0px 1px 2px rgba(60, 64, 67, 0.3), 0px 1px 3px 1px rgba(60, 64, 67, 0.15);\n",
              "      fill: #174EA6;\n",
              "    }\n",
              "\n",
              "    [theme=dark] .colab-df-convert {\n",
              "      background-color: #3B4455;\n",
              "      fill: #D2E3FC;\n",
              "    }\n",
              "\n",
              "    [theme=dark] .colab-df-convert:hover {\n",
              "      background-color: #434B5C;\n",
              "      box-shadow: 0px 1px 3px 1px rgba(0, 0, 0, 0.15);\n",
              "      filter: drop-shadow(0px 1px 2px rgba(0, 0, 0, 0.3));\n",
              "      fill: #FFFFFF;\n",
              "    }\n",
              "  </style>\n",
              "\n",
              "      <script>\n",
              "        const buttonEl =\n",
              "          document.querySelector('#df-c82b3d40-2d62-4cb0-aafc-df48ae4820c3 button.colab-df-convert');\n",
              "        buttonEl.style.display =\n",
              "          google.colab.kernel.accessAllowed ? 'block' : 'none';\n",
              "\n",
              "        async function convertToInteractive(key) {\n",
              "          const element = document.querySelector('#df-c82b3d40-2d62-4cb0-aafc-df48ae4820c3');\n",
              "          const dataTable =\n",
              "            await google.colab.kernel.invokeFunction('convertToInteractive',\n",
              "                                                     [key], {});\n",
              "          if (!dataTable) return;\n",
              "\n",
              "          const docLinkHtml = 'Like what you see? Visit the ' +\n",
              "            '<a target=\"_blank\" href=https://colab.research.google.com/notebooks/data_table.ipynb>data table notebook</a>'\n",
              "            + ' to learn more about interactive tables.';\n",
              "          element.innerHTML = '';\n",
              "          dataTable['output_type'] = 'display_data';\n",
              "          await google.colab.output.renderOutput(dataTable, element);\n",
              "          const docLink = document.createElement('div');\n",
              "          docLink.innerHTML = docLinkHtml;\n",
              "          element.appendChild(docLink);\n",
              "        }\n",
              "      </script>\n",
              "    </div>\n",
              "  </div>\n",
              "  "
            ]
          },
          "metadata": {},
          "execution_count": 53
        }
      ]
    },
    {
      "cell_type": "code",
      "source": [
        "#decision tree\n",
        "coef, p = spearmanr(y_test, y_predic)\n",
        "print('Spearmans correlation coefficient: %.3f' % coef)\n",
        "# interpret the significance\n",
        "alpha = 0.05\n",
        "if p > alpha:\n",
        " print('Samples are uncorrelated (fail to reject H0) p=%.3f' % p)\n",
        "else:\n",
        " print('Samples are correlated (reject H0) p=%.3f' % p)"
      ],
      "metadata": {
        "colab": {
          "base_uri": "https://localhost:8080/"
        },
        "id": "mk_gBOKxmFlv",
        "outputId": "32afca80-81eb-4cd5-d686-2403d8067e9e"
      },
      "execution_count": null,
      "outputs": [
        {
          "output_type": "stream",
          "name": "stdout",
          "text": [
            "Spearmans correlation coefficient: 0.973\n",
            "Samples are correlated (reject H0) p=0.000\n"
          ]
        }
      ]
    },
    {
      "cell_type": "code",
      "source": [
        "from sklearn.model_selection import cross_val_score\n",
        "accuracies = cross_val_score(estimator = tree, X = x_test_scaled, y = y_test, cv = 10)\n",
        "accuracies.mean()\n",
        "accuracies.std()\n"
      ],
      "metadata": {
        "colab": {
          "base_uri": "https://localhost:8080/"
        },
        "id": "Iy-YaSOqqWdn",
        "outputId": "befbf8cd-9d1f-460e-b7c1-45ea03f4117b"
      },
      "execution_count": null,
      "outputs": [
        {
          "output_type": "execute_result",
          "data": {
            "text/plain": [
              "0.021902658686843046"
            ]
          },
          "metadata": {},
          "execution_count": 183
        }
      ]
    },
    {
      "cell_type": "code",
      "source": [
        "accuracies.mean()"
      ],
      "metadata": {
        "colab": {
          "base_uri": "https://localhost:8080/"
        },
        "id": "cVKnDZDWqYSh",
        "outputId": "61156b32-ac11-41c2-ea07-4a4b78b0f9d2"
      },
      "execution_count": null,
      "outputs": [
        {
          "output_type": "execute_result",
          "data": {
            "text/plain": [
              "0.9510683810734177"
            ]
          },
          "metadata": {},
          "execution_count": 184
        }
      ]
    },
    {
      "cell_type": "code",
      "execution_count": null,
      "metadata": {
        "colab": {
          "base_uri": "https://localhost:8080/"
        },
        "id": "WNLlnu5nsxRo",
        "outputId": "8a210470-54d5-435b-b14c-77d404c0b773"
      },
      "outputs": [
        {
          "output_type": "stream",
          "name": "stdout",
          "text": [
            "Mean Absolute Error: 17.076901490223644\n",
            "Mean Squared Error: 1510.6535708042366\n",
            "Root Mean Squared Error: 38.867127123113136\n"
          ]
        }
      ],
      "source": [
        "from sklearn import metrics\n",
        "\n",
        "print('Mean Absolute Error:', metrics.mean_absolute_error(y_test, y_predic))\n",
        "print('Mean Squared Error:', metrics.mean_squared_error(y_test, y_predic))\n",
        "print('Root Mean Squared Error:', np.sqrt(metrics.mean_squared_error(y_test, y_predic)))\n"
      ]
    },
    {
      "cell_type": "code",
      "execution_count": null,
      "metadata": {
        "colab": {
          "base_uri": "https://localhost:8080/"
        },
        "id": "OdeaK-0ksxRo",
        "outputId": "237d4785-d5f0-4c25-fab4-b49d11b6fe35"
      },
      "outputs": [
        {
          "output_type": "execute_result",
          "data": {
            "text/plain": [
              "0.9535198621790661"
            ]
          },
          "metadata": {},
          "execution_count": 43
        }
      ],
      "source": [
        "get_score(DecisionTreeRegressor() ,x_train,x_test,y_train,y_test)"
      ]
    },
    {
      "cell_type": "code",
      "source": [
        "tree.score(x_train,y_train)"
      ],
      "metadata": {
        "colab": {
          "base_uri": "https://localhost:8080/"
        },
        "id": "_LzZASEC0r2E",
        "outputId": "3a52cac6-33c0-453c-a071-37b1449a0378"
      },
      "execution_count": null,
      "outputs": [
        {
          "output_type": "execute_result",
          "data": {
            "text/plain": [
              "0.9543437288709199"
            ]
          },
          "metadata": {},
          "execution_count": 36
        }
      ]
    },
    {
      "cell_type": "code",
      "source": [
        "coef, p = spearmanr(y_test, y_pred)\n",
        "print('Spearmans correlation coefficient: %.3f' % coef)\n",
        "# interpret the significance\n",
        "alpha = 0.05\n",
        "if p > alpha:\n",
        " print('Samples are uncorrelated (fail to reject H0) p=%.3f' % p)\n",
        "else:\n",
        " print('Samples are correlated (reject H0) p=%.3f' % p)"
      ],
      "metadata": {
        "id": "xiEdTieymD4I"
      },
      "execution_count": null,
      "outputs": []
    },
    {
      "cell_type": "code",
      "source": [
        "from mlxtend.evaluate import paired_ttest_5x2cv"
      ],
      "metadata": {
        "id": "iDeuLcHPA-n4"
      },
      "execution_count": null,
      "outputs": []
    },
    {
      "cell_type": "code",
      "source": [
        "t, p = paired_ttest_5x2cv(estimator1=tree,\n",
        "                          estimator2=regressor,\n",
        "                          X=x_train, y=y_train,\n",
        "                          random_seed=1)"
      ],
      "metadata": {
        "id": "-39Z-8ubA-rr"
      },
      "execution_count": null,
      "outputs": []
    },
    {
      "cell_type": "code",
      "source": [
        "print('t statistic: %.3f' % t)\n",
        "print('p value: %.3f' % p)"
      ],
      "metadata": {
        "colab": {
          "base_uri": "https://localhost:8080/"
        },
        "id": "jZ14nAc9Bt_N",
        "outputId": "e2ad2e54-32a5-465d-987e-6964db718c30"
      },
      "execution_count": null,
      "outputs": [
        {
          "output_type": "stream",
          "name": "stdout",
          "text": [
            "t statistic: -0.800\n",
            "p value: 0.460\n"
          ]
        }
      ]
    },
    {
      "cell_type": "code",
      "execution_count": null,
      "metadata": {
        "colab": {
          "base_uri": "https://localhost:8080/"
        },
        "id": "bTkpeNrEsxRo",
        "outputId": "eba661f1-5c56-44fa-fb3c-0360b662b454"
      },
      "outputs": [
        {
          "output_type": "execute_result",
          "data": {
            "text/plain": [
              "array([1.45802856e-01, 1.69138723e-02, 1.12985172e-03, 6.50294430e-01,\n",
              "       2.11194106e-04, 1.85647795e-01, 0.00000000e+00, 0.00000000e+00])"
            ]
          },
          "metadata": {},
          "execution_count": 49
        }
      ],
      "source": [
        "tree.feature_importances_"
      ]
    },
    {
      "cell_type": "code",
      "source": [
        "df.columns"
      ],
      "metadata": {
        "colab": {
          "base_uri": "https://localhost:8080/"
        },
        "id": "aI5L2fz_xbxN",
        "outputId": "12fb60e0-497e-4e65-f963-2be1ad82c508"
      },
      "execution_count": null,
      "outputs": [
        {
          "output_type": "execute_result",
          "data": {
            "text/plain": [
              "Index(['online user', '# Spark workers', '#VMs', 'size of data',\n",
              "       'Amount of memory of workers', '# cores of workers', 'total memory',\n",
              "       '#cores of VMs', 'Ave response time'],\n",
              "      dtype='object')"
            ]
          },
          "metadata": {},
          "execution_count": 50
        }
      ]
    }
  ],
  "metadata": {
    "kernelspec": {
      "display_name": "Python 3",
      "language": "python",
      "name": "python3"
    },
    "language_info": {
      "codemirror_mode": {
        "name": "ipython",
        "version": 3
      },
      "file_extension": ".py",
      "mimetype": "text/x-python",
      "name": "python",
      "nbconvert_exporter": "python",
      "pygments_lexer": "ipython3",
      "version": "3.8.8"
    },
    "colab": {
      "provenance": []
    }
  },
  "nbformat": 4,
  "nbformat_minor": 0
}