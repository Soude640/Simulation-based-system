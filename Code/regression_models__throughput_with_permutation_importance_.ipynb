{
  "cells": [
    {
      "cell_type": "code",
      "execution_count": null,
      "metadata": {
        "colab": {
          "background_save": true
        },
        "id": "2OVTnExfsxRd"
      },
      "outputs": [],
      "source": [
        "import numpy as np\n",
        "import matplotlib.pyplot as plt\n",
        "import pandas as pd\n",
        "from sklearn.model_selection import train_test_split\n",
        "from sklearn.linear_model import LogisticRegression\n",
        "from sklearn.linear_model import LinearRegression\n",
        "from sklearn.metrics import mean_squared_error, r2_score\n",
        "from sklearn.ensemble import RandomForestRegressor \n",
        "import seaborn as sns\n",
        "import xgboost as xgb\n"
      ]
    },
    {
      "cell_type": "code",
      "execution_count": null,
      "metadata": {
        "id": "uwRXJels7Mon"
      },
      "outputs": [],
      "source": [
        "import pandas as pd\n",
        "import numpy as np\n",
        "import seaborn as sns\n",
        "import scipy as scipy"
      ]
    },
    {
      "cell_type": "code",
      "execution_count": null,
      "metadata": {
        "id": "8a6RUAsqsxRg"
      },
      "outputs": [],
      "source": [
        "url = 'https://raw.githubusercontent.com/soghac/Simulation-based-system/main/data/throughput.csv'"
      ]
    },
    {
      "cell_type": "code",
      "execution_count": null,
      "metadata": {
        "id": "3L-h9BUTs_VN"
      },
      "outputs": [],
      "source": [
        "df = pd.read_csv(url)"
      ]
    },
    {
      "cell_type": "code",
      "execution_count": null,
      "metadata": {
        "id": "hHqFju46sxRl"
      },
      "outputs": [],
      "source": [
        "x = df.iloc[:, :-1].values\n",
        "y = df.iloc[:,-1].values"
      ]
    },
    {
      "cell_type": "code",
      "execution_count": null,
      "metadata": {
        "id": "d2hDdKljsxRl"
      },
      "outputs": [],
      "source": [
        "x_train,x_test,y_train,y_test=train_test_split(x,y,test_size=0.20,random_state=42)"
      ]
    },
    {
      "cell_type": "code",
      "execution_count": null,
      "metadata": {
        "id": "jkYNWN9lsxRl"
      },
      "outputs": [],
      "source": [
        "from sklearn.preprocessing import StandardScaler"
      ]
    },
    {
      "cell_type": "code",
      "execution_count": null,
      "metadata": {
        "id": "clnDEbGjsxRl"
      },
      "outputs": [],
      "source": [
        "scaler=StandardScaler()"
      ]
    },
    {
      "cell_type": "code",
      "execution_count": null,
      "metadata": {
        "id": "27poWrQ8sxRl"
      },
      "outputs": [],
      "source": [
        "x_scaled=scaler.fit_transform(x_train)"
      ]
    },
    {
      "cell_type": "code",
      "execution_count": null,
      "metadata": {
        "id": "72-n8dB8sxRl"
      },
      "outputs": [],
      "source": [
        "x_test_scaled=scaler.transform(x_test)"
      ]
    },
    {
      "cell_type": "code",
      "execution_count": null,
      "metadata": {
        "id": "JHUTTIIYsxRl"
      },
      "outputs": [],
      "source": [
        "from sklearn.ensemble import AdaBoostRegressor\n",
        "from sklearn.metrics import r2_score"
      ]
    },
    {
      "cell_type": "code",
      "execution_count": null,
      "metadata": {
        "id": "bQFBdxJusxRm"
      },
      "outputs": [],
      "source": [
        "AdaBoost_model=AdaBoostRegressor()"
      ]
    },
    {
      "cell_type": "code",
      "execution_count": null,
      "metadata": {
        "colab": {
          "base_uri": "https://localhost:8080/"
        },
        "id": "SWRszJI0sxRm",
        "outputId": "ddcb5f54-6d99-4306-d716-27a7637d60fb"
      },
      "outputs": [
        {
          "data": {
            "text/plain": [
              "AdaBoostRegressor()"
            ]
          },
          "execution_count": 13,
          "metadata": {},
          "output_type": "execute_result"
        }
      ],
      "source": [
        "AdaBoost_model.fit(x_train,y_train)"
      ]
    },
    {
      "cell_type": "code",
      "execution_count": null,
      "metadata": {
        "colab": {
          "base_uri": "https://localhost:8080/"
        },
        "id": "YX2K5tfasxRm",
        "outputId": "1f85faa5-514a-4e4b-ebc7-545a2347079a"
      },
      "outputs": [
        {
          "data": {
            "text/plain": [
              "0.9583257600080857"
            ]
          },
          "execution_count": 14,
          "metadata": {},
          "output_type": "execute_result"
        }
      ],
      "source": [
        "AdaBoost_model.score(x_test,y_test)"
      ]
    },
    {
      "cell_type": "code",
      "execution_count": null,
      "metadata": {
        "colab": {
          "base_uri": "https://localhost:8080/"
        },
        "id": "-sIf4r66zg_V",
        "outputId": "9080373a-37c0-4b5f-e7c6-090b8d18652b"
      },
      "outputs": [
        {
          "data": {
            "text/plain": [
              "0.9527833965370329"
            ]
          },
          "execution_count": 15,
          "metadata": {},
          "output_type": "execute_result"
        }
      ],
      "source": [
        "AdaBoost_model.score(x_train,y_train)"
      ]
    },
    {
      "cell_type": "code",
      "execution_count": null,
      "metadata": {
        "id": "DuheK-aQsxRm"
      },
      "outputs": [],
      "source": [
        "y_pred = AdaBoost_model.predict(x_test)"
      ]
    },
    {
      "cell_type": "code",
      "execution_count": null,
      "metadata": {
        "colab": {
          "base_uri": "https://localhost:8080/"
        },
        "id": "NPiNhZdBsxRm",
        "outputId": "3a0cd330-2004-4651-dedc-d474fcf3c8b6"
      },
      "outputs": [
        {
          "name": "stdout",
          "output_type": "stream",
          "text": [
            "Mean Absolute Error: 0.3661085021302281\n",
            "Mean Squared Error: 0.7646861915761924\n",
            "Root Mean Squared Error: 0.8744633734903895\n"
          ]
        }
      ],
      "source": [
        "from sklearn import metrics\n",
        "\n",
        "print('Mean Absolute Error:', metrics.mean_absolute_error(y_test, y_pred))\n",
        "print('Mean Squared Error:', metrics.mean_squared_error(y_test, y_pred))\n",
        "print('Root Mean Squared Error:', np.sqrt(metrics.mean_squared_error(y_test, y_pred)))\n"
      ]
    },
    {
      "cell_type": "code",
      "execution_count": null,
      "metadata": {
        "id": "xgU8F4khz_Lp"
      },
      "outputs": [],
      "source": [
        "%%capture\n",
        "!pip install eli5"
      ]
    },
    {
      "cell_type": "code",
      "execution_count": null,
      "metadata": {
        "id": "odZ1AUjKzqx5"
      },
      "outputs": [],
      "source": [
        "import eli5\n",
        "from eli5.sklearn import PermutationImportance"
      ]
    },
    {
      "cell_type": "code",
      "execution_count": null,
      "metadata": {
        "colab": {
          "base_uri": "https://localhost:8080/"
        },
        "id": "UdxwG0Qh0O5j",
        "outputId": "7273f27b-9ada-4e75-ead4-f13d9a1a80a6"
      },
      "outputs": [
        {
          "data": {
            "text/plain": [
              "PermutationImportance(estimator=AdaBoostRegressor(), random_state=42,\n",
              "                      scoring='r2')"
            ]
          },
          "execution_count": 20,
          "metadata": {},
          "output_type": "execute_result"
        }
      ],
      "source": [
        "permuter = PermutationImportance(\n",
        "    estimator=AdaBoost_model,\n",
        "    scoring='r2',\n",
        "    n_iter=5,\n",
        "    random_state=42)\n",
        "permuter.fit(x_test,y_test)"
      ]
    },
    {
      "cell_type": "code",
      "execution_count": null,
      "metadata": {
        "id": "XLsZT75s0mKC"
      },
      "outputs": [],
      "source": [
        "from sklearn.inspection import permutation_importance"
      ]
    },
    {
      "cell_type": "code",
      "execution_count": null,
      "metadata": {
        "id": "xQz3DZm60dP5"
      },
      "outputs": [],
      "source": [
        "result = permutation_importance(\n",
        "    AdaBoost_model, x_train, y_train, n_repeats=10, random_state=42, n_jobs=2\n",
        ")\n",
        "\n",
        "sorted_importances_idx = result.importances_mean.argsort()\n",
        "importances = pd.DataFrame(\n",
        "    result.importances[sorted_importances_idx].T\n",
        ")"
      ]
    },
    {
      "cell_type": "code",
      "execution_count": null,
      "metadata": {
        "colab": {
          "base_uri": "https://localhost:8080/"
        },
        "id": "7pUHK5aH0pXp",
        "outputId": "b05a0c38-76e1-43e7-dd87-49457701c4d0"
      },
      "outputs": [
        {
          "data": {
            "text/plain": [
              "array([1, 5, 6, 7, 2, 4, 0, 3])"
            ]
          },
          "execution_count": 23,
          "metadata": {},
          "output_type": "execute_result"
        }
      ],
      "source": [
        "sorted_importances_idx"
      ]
    },
    {
      "cell_type": "code",
      "execution_count": null,
      "metadata": {
        "colab": {
          "base_uri": "https://localhost:8080/",
          "height": 322
        },
        "id": "O1QXEQgC0stw",
        "outputId": "64abba2d-5f7b-490a-a5d6-27bc7cf57356"
      },
      "outputs": [
        {
          "data": {
            "text/html": [
              "\n",
              "  <div id=\"df-d8d578e9-b135-4e46-96d4-c633fd4dc675\">\n",
              "    <div class=\"colab-df-container\">\n",
              "      <div>\n",
              "<style scoped>\n",
              "    .dataframe tbody tr th:only-of-type {\n",
              "        vertical-align: middle;\n",
              "    }\n",
              "\n",
              "    .dataframe tbody tr th {\n",
              "        vertical-align: top;\n",
              "    }\n",
              "\n",
              "    .dataframe thead th {\n",
              "        text-align: right;\n",
              "    }\n",
              "</style>\n",
              "<table border=\"1\" class=\"dataframe\">\n",
              "  <thead>\n",
              "    <tr style=\"text-align: right;\">\n",
              "      <th></th>\n",
              "      <th>0</th>\n",
              "      <th>1</th>\n",
              "      <th>2</th>\n",
              "      <th>3</th>\n",
              "      <th>4</th>\n",
              "      <th>5</th>\n",
              "      <th>6</th>\n",
              "      <th>7</th>\n",
              "    </tr>\n",
              "  </thead>\n",
              "  <tbody>\n",
              "    <tr>\n",
              "      <th>0</th>\n",
              "      <td>0.0</td>\n",
              "      <td>0.0</td>\n",
              "      <td>0.0</td>\n",
              "      <td>0.0</td>\n",
              "      <td>0.001679</td>\n",
              "      <td>0.002927</td>\n",
              "      <td>0.010222</td>\n",
              "      <td>1.845081</td>\n",
              "    </tr>\n",
              "    <tr>\n",
              "      <th>1</th>\n",
              "      <td>0.0</td>\n",
              "      <td>0.0</td>\n",
              "      <td>0.0</td>\n",
              "      <td>0.0</td>\n",
              "      <td>0.001663</td>\n",
              "      <td>0.002100</td>\n",
              "      <td>0.011615</td>\n",
              "      <td>1.895480</td>\n",
              "    </tr>\n",
              "    <tr>\n",
              "      <th>2</th>\n",
              "      <td>0.0</td>\n",
              "      <td>0.0</td>\n",
              "      <td>0.0</td>\n",
              "      <td>0.0</td>\n",
              "      <td>0.001827</td>\n",
              "      <td>0.006368</td>\n",
              "      <td>0.011213</td>\n",
              "      <td>1.873362</td>\n",
              "    </tr>\n",
              "    <tr>\n",
              "      <th>3</th>\n",
              "      <td>0.0</td>\n",
              "      <td>0.0</td>\n",
              "      <td>0.0</td>\n",
              "      <td>0.0</td>\n",
              "      <td>0.001637</td>\n",
              "      <td>0.001773</td>\n",
              "      <td>0.010078</td>\n",
              "      <td>1.870520</td>\n",
              "    </tr>\n",
              "    <tr>\n",
              "      <th>4</th>\n",
              "      <td>0.0</td>\n",
              "      <td>0.0</td>\n",
              "      <td>0.0</td>\n",
              "      <td>0.0</td>\n",
              "      <td>0.001884</td>\n",
              "      <td>0.002370</td>\n",
              "      <td>0.008996</td>\n",
              "      <td>1.908145</td>\n",
              "    </tr>\n",
              "    <tr>\n",
              "      <th>5</th>\n",
              "      <td>0.0</td>\n",
              "      <td>0.0</td>\n",
              "      <td>0.0</td>\n",
              "      <td>0.0</td>\n",
              "      <td>0.001674</td>\n",
              "      <td>0.004838</td>\n",
              "      <td>0.008695</td>\n",
              "      <td>1.848037</td>\n",
              "    </tr>\n",
              "    <tr>\n",
              "      <th>6</th>\n",
              "      <td>0.0</td>\n",
              "      <td>0.0</td>\n",
              "      <td>0.0</td>\n",
              "      <td>0.0</td>\n",
              "      <td>0.001826</td>\n",
              "      <td>0.005656</td>\n",
              "      <td>0.009864</td>\n",
              "      <td>1.973560</td>\n",
              "    </tr>\n",
              "    <tr>\n",
              "      <th>7</th>\n",
              "      <td>0.0</td>\n",
              "      <td>0.0</td>\n",
              "      <td>0.0</td>\n",
              "      <td>0.0</td>\n",
              "      <td>0.001738</td>\n",
              "      <td>0.004008</td>\n",
              "      <td>0.006008</td>\n",
              "      <td>1.863175</td>\n",
              "    </tr>\n",
              "    <tr>\n",
              "      <th>8</th>\n",
              "      <td>0.0</td>\n",
              "      <td>0.0</td>\n",
              "      <td>0.0</td>\n",
              "      <td>0.0</td>\n",
              "      <td>0.001718</td>\n",
              "      <td>0.004481</td>\n",
              "      <td>0.008137</td>\n",
              "      <td>1.838188</td>\n",
              "    </tr>\n",
              "    <tr>\n",
              "      <th>9</th>\n",
              "      <td>0.0</td>\n",
              "      <td>0.0</td>\n",
              "      <td>0.0</td>\n",
              "      <td>0.0</td>\n",
              "      <td>0.001673</td>\n",
              "      <td>0.001270</td>\n",
              "      <td>0.010779</td>\n",
              "      <td>1.836001</td>\n",
              "    </tr>\n",
              "  </tbody>\n",
              "</table>\n",
              "</div>\n",
              "      <button class=\"colab-df-convert\" onclick=\"convertToInteractive('df-d8d578e9-b135-4e46-96d4-c633fd4dc675')\"\n",
              "              title=\"Convert this dataframe to an interactive table.\"\n",
              "              style=\"display:none;\">\n",
              "        \n",
              "  <svg xmlns=\"http://www.w3.org/2000/svg\" height=\"24px\"viewBox=\"0 0 24 24\"\n",
              "       width=\"24px\">\n",
              "    <path d=\"M0 0h24v24H0V0z\" fill=\"none\"/>\n",
              "    <path d=\"M18.56 5.44l.94 2.06.94-2.06 2.06-.94-2.06-.94-.94-2.06-.94 2.06-2.06.94zm-11 1L8.5 8.5l.94-2.06 2.06-.94-2.06-.94L8.5 2.5l-.94 2.06-2.06.94zm10 10l.94 2.06.94-2.06 2.06-.94-2.06-.94-.94-2.06-.94 2.06-2.06.94z\"/><path d=\"M17.41 7.96l-1.37-1.37c-.4-.4-.92-.59-1.43-.59-.52 0-1.04.2-1.43.59L10.3 9.45l-7.72 7.72c-.78.78-.78 2.05 0 2.83L4 21.41c.39.39.9.59 1.41.59.51 0 1.02-.2 1.41-.59l7.78-7.78 2.81-2.81c.8-.78.8-2.07 0-2.86zM5.41 20L4 18.59l7.72-7.72 1.47 1.35L5.41 20z\"/>\n",
              "  </svg>\n",
              "      </button>\n",
              "      \n",
              "  <style>\n",
              "    .colab-df-container {\n",
              "      display:flex;\n",
              "      flex-wrap:wrap;\n",
              "      gap: 12px;\n",
              "    }\n",
              "\n",
              "    .colab-df-convert {\n",
              "      background-color: #E8F0FE;\n",
              "      border: none;\n",
              "      border-radius: 50%;\n",
              "      cursor: pointer;\n",
              "      display: none;\n",
              "      fill: #1967D2;\n",
              "      height: 32px;\n",
              "      padding: 0 0 0 0;\n",
              "      width: 32px;\n",
              "    }\n",
              "\n",
              "    .colab-df-convert:hover {\n",
              "      background-color: #E2EBFA;\n",
              "      box-shadow: 0px 1px 2px rgba(60, 64, 67, 0.3), 0px 1px 3px 1px rgba(60, 64, 67, 0.15);\n",
              "      fill: #174EA6;\n",
              "    }\n",
              "\n",
              "    [theme=dark] .colab-df-convert {\n",
              "      background-color: #3B4455;\n",
              "      fill: #D2E3FC;\n",
              "    }\n",
              "\n",
              "    [theme=dark] .colab-df-convert:hover {\n",
              "      background-color: #434B5C;\n",
              "      box-shadow: 0px 1px 3px 1px rgba(0, 0, 0, 0.15);\n",
              "      filter: drop-shadow(0px 1px 2px rgba(0, 0, 0, 0.3));\n",
              "      fill: #FFFFFF;\n",
              "    }\n",
              "  </style>\n",
              "\n",
              "      <script>\n",
              "        const buttonEl =\n",
              "          document.querySelector('#df-d8d578e9-b135-4e46-96d4-c633fd4dc675 button.colab-df-convert');\n",
              "        buttonEl.style.display =\n",
              "          google.colab.kernel.accessAllowed ? 'block' : 'none';\n",
              "\n",
              "        async function convertToInteractive(key) {\n",
              "          const element = document.querySelector('#df-d8d578e9-b135-4e46-96d4-c633fd4dc675');\n",
              "          const dataTable =\n",
              "            await google.colab.kernel.invokeFunction('convertToInteractive',\n",
              "                                                     [key], {});\n",
              "          if (!dataTable) return;\n",
              "\n",
              "          const docLinkHtml = 'Like what you see? Visit the ' +\n",
              "            '<a target=\"_blank\" href=https://colab.research.google.com/notebooks/data_table.ipynb>data table notebook</a>'\n",
              "            + ' to learn more about interactive tables.';\n",
              "          element.innerHTML = '';\n",
              "          dataTable['output_type'] = 'display_data';\n",
              "          await google.colab.output.renderOutput(dataTable, element);\n",
              "          const docLink = document.createElement('div');\n",
              "          docLink.innerHTML = docLinkHtml;\n",
              "          element.appendChild(docLink);\n",
              "        }\n",
              "      </script>\n",
              "    </div>\n",
              "  </div>\n",
              "  "
            ],
            "text/plain": [
              "     0    1    2    3         4         5         6         7\n",
              "0  0.0  0.0  0.0  0.0  0.001679  0.002927  0.010222  1.845081\n",
              "1  0.0  0.0  0.0  0.0  0.001663  0.002100  0.011615  1.895480\n",
              "2  0.0  0.0  0.0  0.0  0.001827  0.006368  0.011213  1.873362\n",
              "3  0.0  0.0  0.0  0.0  0.001637  0.001773  0.010078  1.870520\n",
              "4  0.0  0.0  0.0  0.0  0.001884  0.002370  0.008996  1.908145\n",
              "5  0.0  0.0  0.0  0.0  0.001674  0.004838  0.008695  1.848037\n",
              "6  0.0  0.0  0.0  0.0  0.001826  0.005656  0.009864  1.973560\n",
              "7  0.0  0.0  0.0  0.0  0.001738  0.004008  0.006008  1.863175\n",
              "8  0.0  0.0  0.0  0.0  0.001718  0.004481  0.008137  1.838188\n",
              "9  0.0  0.0  0.0  0.0  0.001673  0.001270  0.010779  1.836001"
            ]
          },
          "execution_count": 24,
          "metadata": {},
          "output_type": "execute_result"
        }
      ],
      "source": [
        "importances"
      ]
    },
    {
      "cell_type": "code",
      "execution_count": null,
      "metadata": {
        "colab": {
          "base_uri": "https://localhost:8080/",
          "height": 297
        },
        "id": "fv4BXHjR1SaJ",
        "outputId": "d1b1a64b-2ff1-419b-bda6-8a3ec44c53a7"
      },
      "outputs": [
        {
          "data": {
            "image/png": "[encoded data removed]",
            "text/plain": [
              "<Figure size 432x288 with 1 Axes>"
            ]
          },
          "metadata": {},
          "output_type": "display_data"
        }
      ],
      "source": [
        "ax = importances.plot.box(vert=False, whis=10)\n",
        "ax.set_title(\"Permutation Importances (train set)\")\n",
        "ax.axvline(x=0, color=\"k\", linestyle=\"--\")\n",
        "ax.set_xlabel(\"Decrease in accuracy score\")\n",
        "ax.figure.tight_layout()"
      ]
    },
    {
      "cell_type": "code",
      "execution_count": null,
      "metadata": {
        "colab": {
          "base_uri": "https://localhost:8080/"
        },
        "id": "LvcxUinasxRm",
        "outputId": "d4f1ac5a-0e53-4ebe-e959-3e057e8acb7e"
      },
      "outputs": [
        {
          "data": {
            "text/plain": [
              "array([4.94368435e-02, 0.00000000e+00, 8.80482139e-04, 9.45985793e-01,\n",
              "       1.31325433e-03, 1.92906857e-03, 0.00000000e+00, 4.54558418e-04])"
            ]
          },
          "execution_count": 26,
          "metadata": {},
          "output_type": "execute_result"
        }
      ],
      "source": [
        "AdaBoost_model.feature_importances_"
      ]
    },
    {
      "cell_type": "code",
      "execution_count": null,
      "metadata": {
        "colab": {
          "base_uri": "https://localhost:8080/"
        },
        "id": "vD2znb0tsxRm",
        "outputId": "e43b37c9-f352-4ea9-d86e-db12d17edae6"
      },
      "outputs": [
        {
          "data": {
            "text/plain": [
              "Index(['online user', '# Spark workers', '#VMs', 'size of data',\n",
              "       'Amount of memory of workers', '# cores of workers', 'total memory',\n",
              "       '#cores of VMs', 'throughput'],\n",
              "      dtype='object')"
            ]
          },
          "execution_count": 27,
          "metadata": {},
          "output_type": "execute_result"
        }
      ],
      "source": [
        "df.columns"
      ]
    },
    {
      "cell_type": "code",
      "execution_count": null,
      "metadata": {
        "id": "wMZBXo1wFvbV"
      },
      "outputs": [],
      "source": [
        "from scipy.stats import spearmanr"
      ]
    },
    {
      "cell_type": "code",
      "execution_count": null,
      "metadata": {
        "colab": {
          "base_uri": "https://localhost:8080/"
        },
        "id": "OvfXx15gF0IF",
        "outputId": "96e70d36-2092-4086-eea9-a3c2c6511107"
      },
      "outputs": [
        {
          "name": "stdout",
          "output_type": "stream",
          "text": [
            "Spearmans correlation coefficient: 0.954\n",
            "Samples are correlated (reject H0) p=0.000\n"
          ]
        }
      ],
      "source": [
        "#Adaboost\n",
        "coef, p = spearmanr(y_test, y_pred)\n",
        "print('Spearmans correlation coefficient: %.3f' % coef)\n",
        "# interpret the significance\n",
        "alpha = 0.05\n",
        "if p > alpha:\n",
        " print('Samples are uncorrelated (fail to reject H0) p=%.3f' % p)\n",
        "else:\n",
        " print('Samples are correlated (reject H0) p=%.3f' % p)"
      ]
    },
    {
      "cell_type": "code",
      "execution_count": null,
      "metadata": {
        "colab": {
          "base_uri": "https://localhost:8080/"
        },
        "id": "y-ST6c-AnX6f",
        "outputId": "3974b9c0-1e4d-4e77-e39a-b964ad62e6e6"
      },
      "outputs": [
        {
          "data": {
            "text/plain": [
              "0.023525009297171707"
            ]
          },
          "execution_count": 22,
          "metadata": {},
          "output_type": "execute_result"
        }
      ],
      "source": [
        "from sklearn.model_selection import cross_val_score\n",
        "accuracies = cross_val_score(estimator = AdaBoost_model, X = x_test_scaled, y = y_test, cv = 10)\n",
        "accuracies.mean()\n",
        "accuracies.std()"
      ]
    },
    {
      "cell_type": "code",
      "execution_count": null,
      "metadata": {
        "colab": {
          "base_uri": "https://localhost:8080/"
        },
        "id": "KtEmmzNOnYA8",
        "outputId": "d7704451-8711-4fa1-e02f-afc2c561a04f"
      },
      "outputs": [
        {
          "data": {
            "text/plain": [
              "0.9391625545569611"
            ]
          },
          "execution_count": 23,
          "metadata": {},
          "output_type": "execute_result"
        }
      ],
      "source": [
        "accuracies.mean()"
      ]
    },
    {
      "cell_type": "raw",
      "metadata": {
        "id": "m7AzEPcdsxRm"
      },
      "source": [
        "result = pd.Dataframe(AdaBoost_model.feature_importances_, dataset.columns)\n",
        "result.columns = ['feature']"
      ]
    },
    {
      "cell_type": "code",
      "execution_count": null,
      "metadata": {
        "id": "tP8kZzxlsxRn"
      },
      "outputs": [],
      "source": [
        "# Feature Scaling\n",
        "from sklearn.preprocessing import StandardScaler\n",
        "\n",
        "sc = StandardScaler()\n",
        "x_train = sc.fit_transform(x_train)\n",
        "x_test = sc.transform(x_test)"
      ]
    },
    {
      "cell_type": "code",
      "execution_count": null,
      "metadata": {
        "id": "hie4HsEMsxRn"
      },
      "outputs": [],
      "source": [
        "from sklearn.ensemble import RandomForestRegressor\n",
        "\n",
        "regressor = RandomForestRegressor(n_estimators=20, random_state=0)\n",
        "regressor.fit(x_train, y_train)\n",
        "y_pred = regressor.predict(x_test)"
      ]
    },
    {
      "cell_type": "code",
      "execution_count": null,
      "metadata": {
        "colab": {
          "base_uri": "https://localhost:8080/"
        },
        "id": "-S72AwlqTbBi",
        "outputId": "7f0fa511-eec7-4c81-955c-2244cd6018d1"
      },
      "outputs": [
        {
          "data": {
            "text/plain": [
              "{'importances_mean': array([1.30226138e-02, 6.32138473e-04, 3.46345236e-05, 1.91310962e+00,\n",
              "        3.71890535e-04, 5.76367951e-04, 3.23045036e-04, 2.53998944e-04]),\n",
              " 'importances_std': array([2.04103073e-03, 2.61495711e-04, 1.97553302e-06, 6.06651934e-02,\n",
              "        2.61301861e-04, 5.95569584e-04, 1.41515080e-05, 1.10134676e-05]),\n",
              " 'importances': array([[ 1.62269512e-02,  1.32566673e-02,  1.08415917e-02,\n",
              "          1.08192663e-02,  1.39685923e-02],\n",
              "        [ 2.72052745e-04,  4.88055550e-04,  1.06174756e-03,\n",
              "          7.14887382e-04,  6.23949128e-04],\n",
              "        [ 3.78501844e-05,  3.41936913e-05,  3.47090955e-05,\n",
              "          3.47772649e-05,  3.16423822e-05],\n",
              "        [ 1.94069572e+00,  1.85754885e+00,  1.93915833e+00,\n",
              "          1.83078711e+00,  1.99735810e+00],\n",
              "        [ 2.01929565e-04,  1.34084503e-04,  7.04035373e-04,\n",
              "          6.76886313e-04,  1.42516920e-04],\n",
              "        [ 4.21519133e-04,  5.57119324e-05,  1.29155517e-03,\n",
              "          1.25157162e-03, -1.38518092e-04],\n",
              "        [ 3.37213855e-04,  3.19050921e-04,  3.33613659e-04,\n",
              "          3.27802468e-04,  2.97544280e-04],\n",
              "        [ 2.65535572e-04,  2.51006303e-04,  2.62001354e-04,\n",
              "          2.57204040e-04,  2.34247451e-04]])}"
            ]
          },
          "execution_count": 42,
          "metadata": {},
          "output_type": "execute_result"
        }
      ],
      "source": [
        "from sklearn.inspection import permutation_importance\n",
        "imp = permutation_importance(regressor, x_train, y_train\n",
        "                           )\n",
        "\n",
        "imp\n"
      ]
    },
    {
      "cell_type": "code",
      "execution_count": null,
      "metadata": {
        "id": "c6n9_-ySm6pp"
      },
      "outputs": [],
      "source": [
        "%%capture\n",
        "!pip install eli5"
      ]
    },
    {
      "cell_type": "code",
      "execution_count": null,
      "metadata": {
        "id": "9nN77HIWnIni"
      },
      "outputs": [],
      "source": [
        "import eli5\n",
        "from eli5.sklearn import PermutationImportance"
      ]
    },
    {
      "cell_type": "code",
      "execution_count": null,
      "metadata": {
        "colab": {
          "base_uri": "https://localhost:8080/"
        },
        "id": "mZve0gmYom83",
        "outputId": "ffc39717-4386-4a24-8c3a-eda6a2a35e71"
      },
      "outputs": [
        {
          "data": {
            "text/plain": [
              "PermutationImportance(estimator=RandomForestRegressor(n_estimators=20,\n",
              "                                                      random_state=0),\n",
              "                      random_state=42, scoring='r2')"
            ]
          },
          "execution_count": 34,
          "metadata": {},
          "output_type": "execute_result"
        }
      ],
      "source": [
        "permuter = PermutationImportance(\n",
        "    estimator=regressor,\n",
        "    scoring='r2',\n",
        "    n_iter=5,\n",
        "    random_state=42)\n",
        "permuter.fit(x_test,y_test)"
      ]
    },
    {
      "cell_type": "code",
      "execution_count": null,
      "metadata": {
        "id": "qej_7w_MqKu-"
      },
      "outputs": [],
      "source": [
        "result = permutation_importance(\n",
        "    regressor, x_train, y_train, n_repeats=10, random_state=42, n_jobs=2\n",
        ")\n",
        "\n",
        "sorted_importances_idx = result.importances_mean.argsort()\n",
        "importances = pd.DataFrame(\n",
        "    result.importances[sorted_importances_idx].T\n",
        ")"
      ]
    },
    {
      "cell_type": "code",
      "execution_count": null,
      "metadata": {
        "colab": {
          "base_uri": "https://localhost:8080/",
          "height": 322
        },
        "id": "RfB8naU3scY7",
        "outputId": "e94a80de-d860-4115-e442-60f749cdd2c8"
      },
      "outputs": [
        {
          "data": {
            "text/html": [
              "\n",
              "  <div id=\"df-c9a773de-c509-4a4d-b15a-c92184a53675\">\n",
              "    <div class=\"colab-df-container\">\n",
              "      <div>\n",
              "<style scoped>\n",
              "    .dataframe tbody tr th:only-of-type {\n",
              "        vertical-align: middle;\n",
              "    }\n",
              "\n",
              "    .dataframe tbody tr th {\n",
              "        vertical-align: top;\n",
              "    }\n",
              "\n",
              "    .dataframe thead th {\n",
              "        text-align: right;\n",
              "    }\n",
              "</style>\n",
              "<table border=\"1\" class=\"dataframe\">\n",
              "  <thead>\n",
              "    <tr style=\"text-align: right;\">\n",
              "      <th></th>\n",
              "      <th>0</th>\n",
              "      <th>1</th>\n",
              "      <th>2</th>\n",
              "      <th>3</th>\n",
              "      <th>4</th>\n",
              "      <th>5</th>\n",
              "      <th>6</th>\n",
              "      <th>7</th>\n",
              "    </tr>\n",
              "  </thead>\n",
              "  <tbody>\n",
              "    <tr>\n",
              "      <th>0</th>\n",
              "      <td>0.000032</td>\n",
              "      <td>0.000240</td>\n",
              "      <td>0.000306</td>\n",
              "      <td>0.000759</td>\n",
              "      <td>0.001028</td>\n",
              "      <td>0.001468</td>\n",
              "      <td>0.014364</td>\n",
              "      <td>1.837821</td>\n",
              "    </tr>\n",
              "    <tr>\n",
              "      <th>1</th>\n",
              "      <td>0.000033</td>\n",
              "      <td>0.000239</td>\n",
              "      <td>0.000304</td>\n",
              "      <td>0.000557</td>\n",
              "      <td>0.000966</td>\n",
              "      <td>0.000932</td>\n",
              "      <td>0.016128</td>\n",
              "      <td>1.891557</td>\n",
              "    </tr>\n",
              "    <tr>\n",
              "      <th>2</th>\n",
              "      <td>0.000034</td>\n",
              "      <td>0.000260</td>\n",
              "      <td>0.000332</td>\n",
              "      <td>0.000883</td>\n",
              "      <td>0.001056</td>\n",
              "      <td>0.002083</td>\n",
              "      <td>0.013958</td>\n",
              "      <td>1.874495</td>\n",
              "    </tr>\n",
              "    <tr>\n",
              "      <th>3</th>\n",
              "      <td>0.000031</td>\n",
              "      <td>0.000233</td>\n",
              "      <td>0.000297</td>\n",
              "      <td>0.000145</td>\n",
              "      <td>0.000225</td>\n",
              "      <td>0.000204</td>\n",
              "      <td>0.013504</td>\n",
              "      <td>1.860679</td>\n",
              "    </tr>\n",
              "    <tr>\n",
              "      <th>4</th>\n",
              "      <td>0.000037</td>\n",
              "      <td>0.000270</td>\n",
              "      <td>0.000344</td>\n",
              "      <td>0.000278</td>\n",
              "      <td>0.000418</td>\n",
              "      <td>0.000850</td>\n",
              "      <td>0.012470</td>\n",
              "      <td>1.902425</td>\n",
              "    </tr>\n",
              "    <tr>\n",
              "      <th>5</th>\n",
              "      <td>0.000032</td>\n",
              "      <td>0.000239</td>\n",
              "      <td>0.000304</td>\n",
              "      <td>0.001386</td>\n",
              "      <td>0.001632</td>\n",
              "      <td>0.002187</td>\n",
              "      <td>0.013076</td>\n",
              "      <td>1.849130</td>\n",
              "    </tr>\n",
              "    <tr>\n",
              "      <th>6</th>\n",
              "      <td>0.000035</td>\n",
              "      <td>0.000260</td>\n",
              "      <td>0.000332</td>\n",
              "      <td>0.000907</td>\n",
              "      <td>0.001066</td>\n",
              "      <td>0.001686</td>\n",
              "      <td>0.012612</td>\n",
              "      <td>1.972094</td>\n",
              "    </tr>\n",
              "    <tr>\n",
              "      <th>7</th>\n",
              "      <td>0.000034</td>\n",
              "      <td>0.000250</td>\n",
              "      <td>0.000318</td>\n",
              "      <td>0.000814</td>\n",
              "      <td>0.001015</td>\n",
              "      <td>0.001317</td>\n",
              "      <td>0.010791</td>\n",
              "      <td>1.856571</td>\n",
              "    </tr>\n",
              "    <tr>\n",
              "      <th>8</th>\n",
              "      <td>0.000033</td>\n",
              "      <td>0.000245</td>\n",
              "      <td>0.000313</td>\n",
              "      <td>0.000842</td>\n",
              "      <td>0.000935</td>\n",
              "      <td>0.001916</td>\n",
              "      <td>0.013480</td>\n",
              "      <td>1.828180</td>\n",
              "    </tr>\n",
              "    <tr>\n",
              "      <th>9</th>\n",
              "      <td>0.000033</td>\n",
              "      <td>0.000239</td>\n",
              "      <td>0.000304</td>\n",
              "      <td>-0.000368</td>\n",
              "      <td>-0.000025</td>\n",
              "      <td>-0.000286</td>\n",
              "      <td>0.016637</td>\n",
              "      <td>1.820602</td>\n",
              "    </tr>\n",
              "  </tbody>\n",
              "</table>\n",
              "</div>\n",
              "      <button class=\"colab-df-convert\" onclick=\"convertToInteractive('df-c9a773de-c509-4a4d-b15a-c92184a53675')\"\n",
              "              title=\"Convert this dataframe to an interactive table.\"\n",
              "              style=\"display:none;\">\n",
              "        \n",
              "  <svg xmlns=\"http://www.w3.org/2000/svg\" height=\"24px\"viewBox=\"0 0 24 24\"\n",
              "       width=\"24px\">\n",
              "    <path d=\"M0 0h24v24H0V0z\" fill=\"none\"/>\n",
              "    <path d=\"M18.56 5.44l.94 2.06.94-2.06 2.06-.94-2.06-.94-.94-2.06-.94 2.06-2.06.94zm-11 1L8.5 8.5l.94-2.06 2.06-.94-2.06-.94L8.5 2.5l-.94 2.06-2.06.94zm10 10l.94 2.06.94-2.06 2.06-.94-2.06-.94-.94-2.06-.94 2.06-2.06.94z\"/><path d=\"M17.41 7.96l-1.37-1.37c-.4-.4-.92-.59-1.43-.59-.52 0-1.04.2-1.43.59L10.3 9.45l-7.72 7.72c-.78.78-.78 2.05 0 2.83L4 21.41c.39.39.9.59 1.41.59.51 0 1.02-.2 1.41-.59l7.78-7.78 2.81-2.81c.8-.78.8-2.07 0-2.86zM5.41 20L4 18.59l7.72-7.72 1.47 1.35L5.41 20z\"/>\n",
              "  </svg>\n",
              "      </button>\n",
              "      \n",
              "  <style>\n",
              "    .colab-df-container {\n",
              "      display:flex;\n",
              "      flex-wrap:wrap;\n",
              "      gap: 12px;\n",
              "    }\n",
              "\n",
              "    .colab-df-convert {\n",
              "      background-color: #E8F0FE;\n",
              "      border: none;\n",
              "      border-radius: 50%;\n",
              "      cursor: pointer;\n",
              "      display: none;\n",
              "      fill: #1967D2;\n",
              "      height: 32px;\n",
              "      padding: 0 0 0 0;\n",
              "      width: 32px;\n",
              "    }\n",
              "\n",
              "    .colab-df-convert:hover {\n",
              "      background-color: #E2EBFA;\n",
              "      box-shadow: 0px 1px 2px rgba(60, 64, 67, 0.3), 0px 1px 3px 1px rgba(60, 64, 67, 0.15);\n",
              "      fill: #174EA6;\n",
              "    }\n",
              "\n",
              "    [theme=dark] .colab-df-convert {\n",
              "      background-color: #3B4455;\n",
              "      fill: #D2E3FC;\n",
              "    }\n",
              "\n",
              "    [theme=dark] .colab-df-convert:hover {\n",
              "      background-color: #434B5C;\n",
              "      box-shadow: 0px 1px 3px 1px rgba(0, 0, 0, 0.15);\n",
              "      filter: drop-shadow(0px 1px 2px rgba(0, 0, 0, 0.3));\n",
              "      fill: #FFFFFF;\n",
              "    }\n",
              "  </style>\n",
              "\n",
              "      <script>\n",
              "        const buttonEl =\n",
              "          document.querySelector('#df-c9a773de-c509-4a4d-b15a-c92184a53675 button.colab-df-convert');\n",
              "        buttonEl.style.display =\n",
              "          google.colab.kernel.accessAllowed ? 'block' : 'none';\n",
              "\n",
              "        async function convertToInteractive(key) {\n",
              "          const element = document.querySelector('#df-c9a773de-c509-4a4d-b15a-c92184a53675');\n",
              "          const dataTable =\n",
              "            await google.colab.kernel.invokeFunction('convertToInteractive',\n",
              "                                                     [key], {});\n",
              "          if (!dataTable) return;\n",
              "\n",
              "          const docLinkHtml = 'Like what you see? Visit the ' +\n",
              "            '<a target=\"_blank\" href=https://colab.research.google.com/notebooks/data_table.ipynb>data table notebook</a>'\n",
              "            + ' to learn more about interactive tables.';\n",
              "          element.innerHTML = '';\n",
              "          dataTable['output_type'] = 'display_data';\n",
              "          await google.colab.output.renderOutput(dataTable, element);\n",
              "          const docLink = document.createElement('div');\n",
              "          docLink.innerHTML = docLinkHtml;\n",
              "          element.appendChild(docLink);\n",
              "        }\n",
              "      </script>\n",
              "    </div>\n",
              "  </div>\n",
              "  "
            ],
            "text/plain": [
              "          0         1         2         3         4         5         6  \\\n",
              "0  0.000032  0.000240  0.000306  0.000759  0.001028  0.001468  0.014364   \n",
              "1  0.000033  0.000239  0.000304  0.000557  0.000966  0.000932  0.016128   \n",
              "2  0.000034  0.000260  0.000332  0.000883  0.001056  0.002083  0.013958   \n",
              "3  0.000031  0.000233  0.000297  0.000145  0.000225  0.000204  0.013504   \n",
              "4  0.000037  0.000270  0.000344  0.000278  0.000418  0.000850  0.012470   \n",
              "5  0.000032  0.000239  0.000304  0.001386  0.001632  0.002187  0.013076   \n",
              "6  0.000035  0.000260  0.000332  0.000907  0.001066  0.001686  0.012612   \n",
              "7  0.000034  0.000250  0.000318  0.000814  0.001015  0.001317  0.010791   \n",
              "8  0.000033  0.000245  0.000313  0.000842  0.000935  0.001916  0.013480   \n",
              "9  0.000033  0.000239  0.000304 -0.000368 -0.000025 -0.000286  0.016637   \n",
              "\n",
              "          7  \n",
              "0  1.837821  \n",
              "1  1.891557  \n",
              "2  1.874495  \n",
              "3  1.860679  \n",
              "4  1.902425  \n",
              "5  1.849130  \n",
              "6  1.972094  \n",
              "7  1.856571  \n",
              "8  1.828180  \n",
              "9  1.820602  "
            ]
          },
          "execution_count": 36,
          "metadata": {},
          "output_type": "execute_result"
        }
      ],
      "source": [
        "importances"
      ]
    },
    {
      "cell_type": "code",
      "execution_count": null,
      "metadata": {
        "colab": {
          "base_uri": "https://localhost:8080/"
        },
        "id": "BWUDl4cPtd8f",
        "outputId": "2bc64241-82b0-4f68-c12a-a1ff30ab7c58"
      },
      "outputs": [
        {
          "data": {
            "text/plain": [
              "array([2, 7, 6, 4, 1, 5, 0, 3])"
            ]
          },
          "execution_count": 37,
          "metadata": {},
          "output_type": "execute_result"
        }
      ],
      "source": [
        "sorted_importances_idx"
      ]
    },
    {
      "cell_type": "code",
      "execution_count": null,
      "metadata": {
        "id": "W4-zIKR3tkWH"
      },
      "outputs": [],
      "source": []
    },
    {
      "cell_type": "code",
      "execution_count": null,
      "metadata": {
        "colab": {
          "base_uri": "https://localhost:8080/",
          "height": 297
        },
        "id": "rbUBEmcRsv6H",
        "outputId": "08f001d9-e23d-4b2b-9f3c-9dbbb2e540ce"
      },
      "outputs": [
        {
          "data": {
            "image/png": "[encoded data removed]",
            "text/plain": [
              "<Figure size 432x288 with 1 Axes>"
            ]
          },
          "metadata": {},
          "output_type": "display_data"
        }
      ],
      "source": [
        "ax = importances.plot.box(vert=False, whis=10)\n",
        "ax.set_title(\"Permutation Importances (train set)Random Forest\")\n",
        "ax.axvline(x=0, color=\"navy\", linestyle=\"--\")\n",
        "ax.set_xlabel(\"Decrease in accuracy score\")\n",
        "ax.figure.tight_layout()"
      ]
    },
    {
      "cell_type": "code",
      "execution_count": null,
      "metadata": {
        "id": "wPUE8rjezWHA"
      },
      "outputs": [],
      "source": []
    },
    {
      "cell_type": "code",
      "execution_count": null,
      "metadata": {
        "colab": {
          "base_uri": "https://localhost:8080/"
        },
        "id": "KWV56adhsxRn",
        "outputId": "928bf94b-91bb-4e15-c9ee-a88e9dad9f90"
      },
      "outputs": [
        {
          "name": "stdout",
          "output_type": "stream",
          "text": [
            "Mean Absolute Error: 0.3060184010830117\n",
            "Mean Squared Error: 0.7242419832030604\n",
            "Root Mean Squared Error: 0.8510240790970961\n"
          ]
        }
      ],
      "source": [
        "from sklearn import metrics\n",
        "\n",
        "print('Mean Absolute Error:', metrics.mean_absolute_error(y_test, y_pred))\n",
        "print('Mean Squared Error:', metrics.mean_squared_error(y_test, y_pred))\n",
        "print('Root Mean Squared Error:', np.sqrt(metrics.mean_squared_error(y_test, y_pred)))\n"
      ]
    },
    {
      "cell_type": "code",
      "execution_count": null,
      "metadata": {
        "id": "Npu9cY5VzU1H"
      },
      "outputs": [],
      "source": []
    },
    {
      "cell_type": "code",
      "execution_count": null,
      "metadata": {
        "colab": {
          "base_uri": "https://localhost:8080/"
        },
        "id": "MIFSAJqFsxRn",
        "outputId": "30b02306-8c54-40df-d5a2-ba66095c1492"
      },
      "outputs": [
        {
          "data": {
            "text/plain": [
              "array([1.43355516e-01, 4.63109285e-02, 5.81892300e-04, 6.79732024e-01,\n",
              "       6.89721250e-02, 6.02326267e-02, 5.00006723e-04, 3.14881184e-04])"
            ]
          },
          "execution_count": 20,
          "metadata": {},
          "output_type": "execute_result"
        }
      ],
      "source": [
        "regressor.feature_importances_"
      ]
    },
    {
      "cell_type": "code",
      "execution_count": null,
      "metadata": {
        "colab": {
          "base_uri": "https://localhost:8080/"
        },
        "id": "y0F-QvcysxRn",
        "outputId": "f886b091-e459-4466-d8ab-3ab77f5130cd"
      },
      "outputs": [
        {
          "data": {
            "text/plain": [
              "Index(['Actual', 'Predicted'], dtype='object')"
            ]
          },
          "execution_count": 21,
          "metadata": {},
          "output_type": "execute_result"
        }
      ],
      "source": [
        "df.columns"
      ]
    },
    {
      "cell_type": "code",
      "execution_count": null,
      "metadata": {
        "colab": {
          "base_uri": "https://localhost:8080/"
        },
        "id": "d9HvZnJ3p-69",
        "outputId": "01fdf758-4b35-452e-a2cd-2026245ae069"
      },
      "outputs": [
        {
          "data": {
            "text/plain": [
              "0.022237088373185415"
            ]
          },
          "execution_count": 23,
          "metadata": {},
          "output_type": "execute_result"
        }
      ],
      "source": [
        "from sklearn.model_selection import cross_val_score\n",
        "\n",
        "accuracies = cross_val_score(estimator = regressor, X = x_test_scaled, y = y_test, cv = 10)\n",
        "accuracies.mean()\n",
        "accuracies.std()"
      ]
    },
    {
      "cell_type": "code",
      "execution_count": null,
      "metadata": {
        "colab": {
          "base_uri": "https://localhost:8080/"
        },
        "id": "6zm4wRTFqOnO",
        "outputId": "f927f4c2-e821-4aab-f9c1-d77852096f06"
      },
      "outputs": [
        {
          "data": {
            "text/plain": [
              "0.9509182853771708"
            ]
          },
          "execution_count": 24,
          "metadata": {},
          "output_type": "execute_result"
        }
      ],
      "source": [
        "accuracies.mean()"
      ]
    },
    {
      "cell_type": "code",
      "execution_count": null,
      "metadata": {
        "id": "z6Kpyh3osxRn"
      },
      "outputs": [],
      "source": [
        "from sklearn.metrics import mean_absolute_error "
      ]
    },
    {
      "cell_type": "code",
      "execution_count": null,
      "metadata": {
        "id": "-TF4u254sxRn"
      },
      "outputs": [],
      "source": [
        "regression_model = LinearRegression()\n",
        "# Fit the data(train the model)\n",
        "regression_model.fit(x, y)\n",
        "# Predict\n",
        "y_predicted = regression_model.predict(x)\n",
        "regression_model.fit(x_train,y_train)\n",
        "# model evaluation\n",
        "rmse = mean_squared_error(y, y_predicted)\n",
        "mse = mean_squared_error(y, y_predicted)\n",
        "mae = mean_absolute_error(y, y_predicted)\n",
        "r2 = r2_score(y, y_predicted)\n",
        "regression_model.score(x_test,y_test)\n",
        "from sklearn import metrics"
      ]
    },
    {
      "cell_type": "code",
      "execution_count": null,
      "metadata": {
        "colab": {
          "base_uri": "https://localhost:8080/"
        },
        "id": "11vAe7R9Gwm2",
        "outputId": "ab00e43a-4929-41e0-caf3-2b4c7baeb0d0"
      },
      "outputs": [
        {
          "data": {
            "text/plain": [
              "PermutationImportance(estimator=LinearRegression(), random_state=42,\n",
              "                      scoring='r2')"
            ]
          },
          "execution_count": 18,
          "metadata": {},
          "output_type": "execute_result"
        }
      ],
      "source": [
        "permuter = PermutationImportance(\n",
        "    estimator=regression_model,\n",
        "    scoring='r2',\n",
        "    n_iter=5,\n",
        "    random_state=42)\n",
        "permuter.fit(x_test,y_test)"
      ]
    },
    {
      "cell_type": "code",
      "execution_count": null,
      "metadata": {
        "id": "YzJE-xp93fXK"
      },
      "outputs": [],
      "source": [
        "result = permutation_importance(\n",
        "    regression_model, x_train, y_train, n_repeats=10, random_state=42, n_jobs=2\n",
        ")\n",
        "\n",
        "sorted_importances_idx = result.importances_mean.argsort()\n",
        "importances = pd.DataFrame(\n",
        "    result.importances[sorted_importances_idx].T\n",
        ")"
      ]
    },
    {
      "cell_type": "code",
      "execution_count": null,
      "metadata": {
        "colab": {
          "base_uri": "https://localhost:8080/",
          "height": 297
        },
        "id": "qlKKNV7Z3pDk",
        "outputId": "29fa783e-af2e-4124-af09-6194ce209aa8"
      },
      "outputs": [
        {
          "data": {
            "image/png": "[encoded data removed]",
            "text/plain": [
              "<Figure size 432x288 with 1 Axes>"
            ]
          },
          "metadata": {},
          "output_type": "display_data"
        }
      ],
      "source": [
        "ax = importances.plot.box(vert=False, whis=10)\n",
        "ax.set_title(\"Permutation Importances (train set)Linear Regression\")\n",
        "ax.axvline(x=0, color=\"navy\", linestyle=\"--\")\n",
        "ax.set_xlabel(\"Decrease in accuracy score\")\n",
        "ax.figure.tight_layout()"
      ]
    },
    {
      "cell_type": "code",
      "execution_count": null,
      "metadata": {
        "colab": {
          "base_uri": "https://localhost:8080/",
          "height": 322
        },
        "id": "ggeG3cz83sH8",
        "outputId": "7e3a666a-eb39-48b4-dfcc-635a2c801166"
      },
      "outputs": [
        {
          "data": {
            "text/html": [
              "\n",
              "  <div id=\"df-02d8fb13-23af-4066-ab30-50a695a86d1b\">\n",
              "    <div class=\"colab-df-container\">\n",
              "      <div>\n",
              "<style scoped>\n",
              "    .dataframe tbody tr th:only-of-type {\n",
              "        vertical-align: middle;\n",
              "    }\n",
              "\n",
              "    .dataframe tbody tr th {\n",
              "        vertical-align: top;\n",
              "    }\n",
              "\n",
              "    .dataframe thead th {\n",
              "        text-align: right;\n",
              "    }\n",
              "</style>\n",
              "<table border=\"1\" class=\"dataframe\">\n",
              "  <thead>\n",
              "    <tr style=\"text-align: right;\">\n",
              "      <th></th>\n",
              "      <th>0</th>\n",
              "      <th>1</th>\n",
              "      <th>2</th>\n",
              "      <th>3</th>\n",
              "      <th>4</th>\n",
              "      <th>5</th>\n",
              "      <th>6</th>\n",
              "      <th>7</th>\n",
              "    </tr>\n",
              "  </thead>\n",
              "  <tbody>\n",
              "    <tr>\n",
              "      <th>0</th>\n",
              "      <td>2.971230e-07</td>\n",
              "      <td>1.019609e-06</td>\n",
              "      <td>0.000012</td>\n",
              "      <td>0.000260</td>\n",
              "      <td>0.001179</td>\n",
              "      <td>0.001033</td>\n",
              "      <td>0.202593</td>\n",
              "      <td>0.674779</td>\n",
              "    </tr>\n",
              "    <tr>\n",
              "      <th>1</th>\n",
              "      <td>2.581312e-07</td>\n",
              "      <td>7.512493e-06</td>\n",
              "      <td>0.000011</td>\n",
              "      <td>0.001685</td>\n",
              "      <td>0.001098</td>\n",
              "      <td>0.002671</td>\n",
              "      <td>0.222948</td>\n",
              "      <td>0.723280</td>\n",
              "    </tr>\n",
              "    <tr>\n",
              "      <th>2</th>\n",
              "      <td>-6.533941e-06</td>\n",
              "      <td>-2.775578e-06</td>\n",
              "      <td>-0.000098</td>\n",
              "      <td>0.001153</td>\n",
              "      <td>-0.000177</td>\n",
              "      <td>0.000076</td>\n",
              "      <td>0.190791</td>\n",
              "      <td>0.721770</td>\n",
              "    </tr>\n",
              "    <tr>\n",
              "      <th>3</th>\n",
              "      <td>4.601056e-06</td>\n",
              "      <td>7.042423e-06</td>\n",
              "      <td>0.000081</td>\n",
              "      <td>-0.000319</td>\n",
              "      <td>0.002009</td>\n",
              "      <td>0.002575</td>\n",
              "      <td>0.227262</td>\n",
              "      <td>0.635776</td>\n",
              "    </tr>\n",
              "    <tr>\n",
              "      <th>4</th>\n",
              "      <td>-1.987016e-06</td>\n",
              "      <td>-1.339686e-06</td>\n",
              "      <td>-0.000025</td>\n",
              "      <td>0.001263</td>\n",
              "      <td>0.000656</td>\n",
              "      <td>0.000439</td>\n",
              "      <td>0.195425</td>\n",
              "      <td>0.725457</td>\n",
              "    </tr>\n",
              "    <tr>\n",
              "      <th>5</th>\n",
              "      <td>3.217218e-06</td>\n",
              "      <td>4.366864e-06</td>\n",
              "      <td>0.000058</td>\n",
              "      <td>0.001105</td>\n",
              "      <td>0.001716</td>\n",
              "      <td>0.001846</td>\n",
              "      <td>0.205072</td>\n",
              "      <td>0.670132</td>\n",
              "    </tr>\n",
              "    <tr>\n",
              "      <th>6</th>\n",
              "      <td>-1.705611e-06</td>\n",
              "      <td>-2.968160e-07</td>\n",
              "      <td>-0.000021</td>\n",
              "      <td>-0.000334</td>\n",
              "      <td>0.000742</td>\n",
              "      <td>0.000677</td>\n",
              "      <td>0.192209</td>\n",
              "      <td>0.773647</td>\n",
              "    </tr>\n",
              "    <tr>\n",
              "      <th>7</th>\n",
              "      <td>8.767612e-07</td>\n",
              "      <td>2.948825e-06</td>\n",
              "      <td>0.000021</td>\n",
              "      <td>0.001028</td>\n",
              "      <td>0.001272</td>\n",
              "      <td>0.001503</td>\n",
              "      <td>0.204255</td>\n",
              "      <td>0.671091</td>\n",
              "    </tr>\n",
              "    <tr>\n",
              "      <th>8</th>\n",
              "      <td>6.493972e-06</td>\n",
              "      <td>7.744452e-06</td>\n",
              "      <td>0.000111</td>\n",
              "      <td>0.000802</td>\n",
              "      <td>0.002332</td>\n",
              "      <td>0.002721</td>\n",
              "      <td>0.221402</td>\n",
              "      <td>0.720192</td>\n",
              "    </tr>\n",
              "    <tr>\n",
              "      <th>9</th>\n",
              "      <td>4.474534e-06</td>\n",
              "      <td>2.662137e-06</td>\n",
              "      <td>0.000078</td>\n",
              "      <td>0.001393</td>\n",
              "      <td>0.001957</td>\n",
              "      <td>0.001429</td>\n",
              "      <td>0.203081</td>\n",
              "      <td>0.642852</td>\n",
              "    </tr>\n",
              "  </tbody>\n",
              "</table>\n",
              "</div>\n",
              "      <button class=\"colab-df-convert\" onclick=\"convertToInteractive('df-02d8fb13-23af-4066-ab30-50a695a86d1b')\"\n",
              "              title=\"Convert this dataframe to an interactive table.\"\n",
              "              style=\"display:none;\">\n",
              "        \n",
              "  <svg xmlns=\"http://www.w3.org/2000/svg\" height=\"24px\"viewBox=\"0 0 24 24\"\n",
              "       width=\"24px\">\n",
              "    <path d=\"M0 0h24v24H0V0z\" fill=\"none\"/>\n",
              "    <path d=\"M18.56 5.44l.94 2.06.94-2.06 2.06-.94-2.06-.94-.94-2.06-.94 2.06-2.06.94zm-11 1L8.5 8.5l.94-2.06 2.06-.94-2.06-.94L8.5 2.5l-.94 2.06-2.06.94zm10 10l.94 2.06.94-2.06 2.06-.94-2.06-.94-.94-2.06-.94 2.06-2.06.94z\"/><path d=\"M17.41 7.96l-1.37-1.37c-.4-.4-.92-.59-1.43-.59-.52 0-1.04.2-1.43.59L10.3 9.45l-7.72 7.72c-.78.78-.78 2.05 0 2.83L4 21.41c.39.39.9.59 1.41.59.51 0 1.02-.2 1.41-.59l7.78-7.78 2.81-2.81c.8-.78.8-2.07 0-2.86zM5.41 20L4 18.59l7.72-7.72 1.47 1.35L5.41 20z\"/>\n",
              "  </svg>\n",
              "      </button>\n",
              "      \n",
              "  <style>\n",
              "    .colab-df-container {\n",
              "      display:flex;\n",
              "      flex-wrap:wrap;\n",
              "      gap: 12px;\n",
              "    }\n",
              "\n",
              "    .colab-df-convert {\n",
              "      background-color: #E8F0FE;\n",
              "      border: none;\n",
              "      border-radius: 50%;\n",
              "      cursor: pointer;\n",
              "      display: none;\n",
              "      fill: #1967D2;\n",
              "      height: 32px;\n",
              "      padding: 0 0 0 0;\n",
              "      width: 32px;\n",
              "    }\n",
              "\n",
              "    .colab-df-convert:hover {\n",
              "      background-color: #E2EBFA;\n",
              "      box-shadow: 0px 1px 2px rgba(60, 64, 67, 0.3), 0px 1px 3px 1px rgba(60, 64, 67, 0.15);\n",
              "      fill: #174EA6;\n",
              "    }\n",
              "\n",
              "    [theme=dark] .colab-df-convert {\n",
              "      background-color: #3B4455;\n",
              "      fill: #D2E3FC;\n",
              "    }\n",
              "\n",
              "    [theme=dark] .colab-df-convert:hover {\n",
              "      background-color: #434B5C;\n",
              "      box-shadow: 0px 1px 3px 1px rgba(0, 0, 0, 0.15);\n",
              "      filter: drop-shadow(0px 1px 2px rgba(0, 0, 0, 0.3));\n",
              "      fill: #FFFFFF;\n",
              "    }\n",
              "  </style>\n",
              "\n",
              "      <script>\n",
              "        const buttonEl =\n",
              "          document.querySelector('#df-02d8fb13-23af-4066-ab30-50a695a86d1b button.colab-df-convert');\n",
              "        buttonEl.style.display =\n",
              "          google.colab.kernel.accessAllowed ? 'block' : 'none';\n",
              "\n",
              "        async function convertToInteractive(key) {\n",
              "          const element = document.querySelector('#df-02d8fb13-23af-4066-ab30-50a695a86d1b');\n",
              "          const dataTable =\n",
              "            await google.colab.kernel.invokeFunction('convertToInteractive',\n",
              "                                                     [key], {});\n",
              "          if (!dataTable) return;\n",
              "\n",
              "          const docLinkHtml = 'Like what you see? Visit the ' +\n",
              "            '<a target=\"_blank\" href=https://colab.research.google.com/notebooks/data_table.ipynb>data table notebook</a>'\n",
              "            + ' to learn more about interactive tables.';\n",
              "          element.innerHTML = '';\n",
              "          dataTable['output_type'] = 'display_data';\n",
              "          await google.colab.output.renderOutput(dataTable, element);\n",
              "          const docLink = document.createElement('div');\n",
              "          docLink.innerHTML = docLinkHtml;\n",
              "          element.appendChild(docLink);\n",
              "        }\n",
              "      </script>\n",
              "    </div>\n",
              "  </div>\n",
              "  "
            ],
            "text/plain": [
              "              0             1         2         3         4         5  \\\n",
              "0  2.971230e-07  1.019609e-06  0.000012  0.000260  0.001179  0.001033   \n",
              "1  2.581312e-07  7.512493e-06  0.000011  0.001685  0.001098  0.002671   \n",
              "2 -6.533941e-06 -2.775578e-06 -0.000098  0.001153 -0.000177  0.000076   \n",
              "3  4.601056e-06  7.042423e-06  0.000081 -0.000319  0.002009  0.002575   \n",
              "4 -1.987016e-06 -1.339686e-06 -0.000025  0.001263  0.000656  0.000439   \n",
              "5  3.217218e-06  4.366864e-06  0.000058  0.001105  0.001716  0.001846   \n",
              "6 -1.705611e-06 -2.968160e-07 -0.000021 -0.000334  0.000742  0.000677   \n",
              "7  8.767612e-07  2.948825e-06  0.000021  0.001028  0.001272  0.001503   \n",
              "8  6.493972e-06  7.744452e-06  0.000111  0.000802  0.002332  0.002721   \n",
              "9  4.474534e-06  2.662137e-06  0.000078  0.001393  0.001957  0.001429   \n",
              "\n",
              "          6         7  \n",
              "0  0.202593  0.674779  \n",
              "1  0.222948  0.723280  \n",
              "2  0.190791  0.721770  \n",
              "3  0.227262  0.635776  \n",
              "4  0.195425  0.725457  \n",
              "5  0.205072  0.670132  \n",
              "6  0.192209  0.773647  \n",
              "7  0.204255  0.671091  \n",
              "8  0.221402  0.720192  \n",
              "9  0.203081  0.642852  "
            ]
          },
          "execution_count": 24,
          "metadata": {},
          "output_type": "execute_result"
        }
      ],
      "source": [
        "importances"
      ]
    },
    {
      "cell_type": "code",
      "execution_count": null,
      "metadata": {
        "colab": {
          "base_uri": "https://localhost:8080/"
        },
        "id": "XTdPmPZw3xkl",
        "outputId": "1415af50-4b3e-4cfe-d48f-24c68d47cacd"
      },
      "outputs": [
        {
          "data": {
            "text/plain": [
              "array([2, 1, 7, 5, 0, 6, 4, 3])"
            ]
          },
          "execution_count": 42,
          "metadata": {},
          "output_type": "execute_result"
        }
      ],
      "source": [
        "sorted_importances_idx"
      ]
    },
    {
      "cell_type": "code",
      "execution_count": null,
      "metadata": {
        "colab": {
          "base_uri": "https://localhost:8080/"
        },
        "id": "GLaOROiFsxRn",
        "outputId": "089861ae-45bf-465d-aeeb-83bd38e1d990"
      },
      "outputs": [
        {
          "name": "stdout",
          "output_type": "stream",
          "text": [
            "Slope: [ 2.49342200e+01 -1.00116514e+15 -5.74443526e+14  1.40687500e+02\n",
            "  1.03380435e+15 -3.26392039e+13  5.07812469e+14  6.66310574e+13]\n",
            "Intercept: 113.026313790101\n",
            "Root mean squared error:  8497.097841478593\n",
            "R2 score:  0.7267049600431809\n",
            "Coefficients: \n",
            " [ 2.49342200e+01 -1.00116514e+15 -5.74443526e+14  1.40687500e+02\n",
            "  1.03380435e+15 -3.26392039e+13  5.07812469e+14  6.66310574e+13]\n",
            "Mean Squared Error:  8497.097841478593\n",
            "Mean Absolute Error:  56.49930168703813\n"
          ]
        },
        {
          "data": {
            "text/plain": [
              "113.026313790101"
            ]
          },
          "execution_count": 34,
          "metadata": {},
          "output_type": "execute_result"
        }
      ],
      "source": [
        "print('Slope:' ,regression_model.coef_)\n",
        "print('Intercept:', regression_model.intercept_)\n",
        "print('Root mean squared error: ', rmse)\n",
        "print('R2 score: ', r2)\n",
        "print('Coefficients: \\n', regression_model.coef_) \n",
        "print('Mean Squared Error: ', mse)\n",
        "print('Mean Absolute Error: ', mae)\n",
        "regression_model.coef_\n",
        "regression_model.intercept_"
      ]
    },
    {
      "cell_type": "code",
      "execution_count": null,
      "metadata": {
        "colab": {
          "base_uri": "https://localhost:8080/"
        },
        "id": "OWNtuVqasxRn",
        "outputId": "e039ff3f-57be-47b7-83f3-e1c7b456fcfa"
      },
      "outputs": [
        {
          "name": "stdout",
          "output_type": "stream",
          "text": [
            "Mean Absolute Error: 17.066091900841396\n",
            "Mean Squared Error: 1507.7771615237166\n",
            "Root Mean Squared Error: 38.83010638053567\n"
          ]
        }
      ],
      "source": [
        "from sklearn import metrics\n",
        "\n",
        "print('Mean Absolute Error:', metrics.mean_absolute_error(y_test, y_pred))\n",
        "print('Mean Squared Error:', metrics.mean_squared_error(y_test, y_pred))\n",
        "print('Root Mean Squared Error:', np.sqrt(metrics.mean_squared_error(y_test, y_pred)))"
      ]
    },
    {
      "cell_type": "code",
      "execution_count": null,
      "metadata": {
        "id": "b0GhNPMHsxRo"
      },
      "outputs": [],
      "source": [
        "def get_score(model,x_train,x_test,y_train,y_test):\n",
        "    model.fit(x_train,y_train)\n",
        "    return model.score(x_test,y_test)"
      ]
    },
    {
      "cell_type": "code",
      "execution_count": null,
      "metadata": {
        "colab": {
          "base_uri": "https://localhost:8080/"
        },
        "id": "ZhXP42gKsxRo",
        "outputId": "a956603e-c4f1-4adc-f51c-caba19b2b769"
      },
      "outputs": [
        {
          "data": {
            "text/plain": [
              "0.7391775311674722"
            ]
          },
          "execution_count": 48,
          "metadata": {},
          "output_type": "execute_result"
        }
      ],
      "source": [
        "get_score(LinearRegression(),x_train,x_test,y_train,y_test)"
      ]
    },
    {
      "cell_type": "code",
      "execution_count": null,
      "metadata": {
        "colab": {
          "base_uri": "https://localhost:8080/"
        },
        "id": "OQY00G3usxRo",
        "outputId": "8039889d-8736-48e8-8df5-c2d72bf177b9"
      },
      "outputs": [
        {
          "data": {
            "text/plain": [
              "0.9536632619279422"
            ]
          },
          "execution_count": 38,
          "metadata": {},
          "output_type": "execute_result"
        }
      ],
      "source": [
        "get_score(RandomForestRegressor() ,x_train,x_test,y_train,y_test)"
      ]
    },
    {
      "cell_type": "code",
      "execution_count": null,
      "metadata": {
        "colab": {
          "base_uri": "https://localhost:8080/"
        },
        "id": "YvrEEXwimePH",
        "outputId": "235a42f6-8eec-4913-9b5e-dd9d004e00b0"
      },
      "outputs": [
        {
          "data": {
            "text/plain": [
              "0.9543020778584539"
            ]
          },
          "execution_count": 39,
          "metadata": {},
          "output_type": "execute_result"
        }
      ],
      "source": [
        "regressor.score(x_train,y_train)"
      ]
    },
    {
      "cell_type": "code",
      "execution_count": null,
      "metadata": {
        "colab": {
          "base_uri": "https://localhost:8080/"
        },
        "id": "jZPVaxn80cXs",
        "outputId": "6911d214-9bd1-484f-ba85-f08a2065fba6"
      },
      "outputs": [
        {
          "data": {
            "text/plain": [
              "0.9536083642038665"
            ]
          },
          "execution_count": 40,
          "metadata": {},
          "output_type": "execute_result"
        }
      ],
      "source": [
        "regressor.score(x_test,y_test)"
      ]
    },
    {
      "cell_type": "code",
      "execution_count": null,
      "metadata": {
        "id": "HN_vcmplsxRo"
      },
      "outputs": [],
      "source": [
        "from sklearn.tree import DecisionTreeRegressor\n",
        "tree = DecisionTreeRegressor(max_depth = 40)\n",
        "tree.fit(x_train, y_train)\n",
        "y_predic = tree.predict(x_test)"
      ]
    },
    {
      "cell_type": "code",
      "execution_count": null,
      "metadata": {
        "colab": {
          "base_uri": "https://localhost:8080/"
        },
        "id": "BE3ScpvQ2YvN",
        "outputId": "22769b8e-c5fd-480a-adb6-b3b1f7e21a89"
      },
      "outputs": [
        {
          "data": {
            "text/plain": [
              "PermutationImportance(estimator=DecisionTreeRegressor(max_depth=40),\n",
              "                      random_state=42, scoring='r2')"
            ]
          },
          "execution_count": 26,
          "metadata": {},
          "output_type": "execute_result"
        }
      ],
      "source": [
        "permuter = PermutationImportance(\n",
        "    estimator=tree,\n",
        "    scoring='r2',\n",
        "    n_iter=5,\n",
        "    random_state=42)\n",
        "permuter.fit(x_test,y_test)"
      ]
    },
    {
      "cell_type": "code",
      "execution_count": null,
      "metadata": {
        "id": "uzZnXYZb2rth"
      },
      "outputs": [],
      "source": [
        "result = permutation_importance(\n",
        "    tree, x_train, y_train, n_repeats=10, random_state=42, n_jobs=2\n",
        ")\n",
        "\n",
        "sorted_importances_idx = result.importances_mean.argsort()\n",
        "importances = pd.DataFrame(\n",
        "    result.importances[sorted_importances_idx].T\n",
        ")"
      ]
    },
    {
      "cell_type": "code",
      "execution_count": null,
      "metadata": {
        "colab": {
          "base_uri": "https://localhost:8080/",
          "height": 297
        },
        "id": "MwLdv-tL2XF7",
        "outputId": "ff24cf01-ecf8-4f08-b3c5-d5fde10536f1"
      },
      "outputs": [
        {
          "data": {
            "image/png": "[encoded data removed]",
            "text/plain": [
              "<Figure size 432x288 with 1 Axes>"
            ]
          },
          "metadata": {},
          "output_type": "display_data"
        }
      ],
      "source": [
        "ax = importances.plot.box(vert=False, whis=10)\n",
        "ax.set_title(\"Permutation Importances (train set)Decision Tree\")\n",
        "ax.axvline(x=0, color=\"navy\", linestyle=\"--\")\n",
        "ax.set_xlabel(\"Decrease in accuracy score\")\n",
        "ax.figure.tight_layout()"
      ]
    },
    {
      "cell_type": "code",
      "execution_count": null,
      "metadata": {
        "colab": {
          "base_uri": "https://localhost:8080/",
          "height": 322
        },
        "id": "DF3bphca2-7T",
        "outputId": "2ce3469d-9d3e-42b9-eeb1-f2f5592f1b81"
      },
      "outputs": [
        {
          "data": {
            "text/html": [
              "\n",
              "  <div id=\"df-2c8a631c-a324-4466-b5d4-422f7891a6cf\">\n",
              "    <div class=\"colab-df-container\">\n",
              "      <div>\n",
              "<style scoped>\n",
              "    .dataframe tbody tr th:only-of-type {\n",
              "        vertical-align: middle;\n",
              "    }\n",
              "\n",
              "    .dataframe tbody tr th {\n",
              "        vertical-align: top;\n",
              "    }\n",
              "\n",
              "    .dataframe thead th {\n",
              "        text-align: right;\n",
              "    }\n",
              "</style>\n",
              "<table border=\"1\" class=\"dataframe\">\n",
              "  <thead>\n",
              "    <tr style=\"text-align: right;\">\n",
              "      <th></th>\n",
              "      <th>0</th>\n",
              "      <th>1</th>\n",
              "      <th>2</th>\n",
              "      <th>3</th>\n",
              "      <th>4</th>\n",
              "      <th>5</th>\n",
              "      <th>6</th>\n",
              "      <th>7</th>\n",
              "    </tr>\n",
              "  </thead>\n",
              "  <tbody>\n",
              "    <tr>\n",
              "      <th>0</th>\n",
              "      <td>0.0</td>\n",
              "      <td>0.0</td>\n",
              "      <td>0.000004</td>\n",
              "      <td>0.000652</td>\n",
              "      <td>0.001500</td>\n",
              "      <td>0.005909</td>\n",
              "      <td>0.014401</td>\n",
              "      <td>1.836364</td>\n",
              "    </tr>\n",
              "    <tr>\n",
              "      <th>1</th>\n",
              "      <td>0.0</td>\n",
              "      <td>0.0</td>\n",
              "      <td>0.000006</td>\n",
              "      <td>0.000784</td>\n",
              "      <td>0.001480</td>\n",
              "      <td>0.004329</td>\n",
              "      <td>0.016305</td>\n",
              "      <td>1.890374</td>\n",
              "    </tr>\n",
              "    <tr>\n",
              "      <th>2</th>\n",
              "      <td>0.0</td>\n",
              "      <td>0.0</td>\n",
              "      <td>0.000005</td>\n",
              "      <td>0.000094</td>\n",
              "      <td>0.001633</td>\n",
              "      <td>0.007295</td>\n",
              "      <td>0.014142</td>\n",
              "      <td>1.875204</td>\n",
              "    </tr>\n",
              "    <tr>\n",
              "      <th>3</th>\n",
              "      <td>0.0</td>\n",
              "      <td>0.0</td>\n",
              "      <td>0.000005</td>\n",
              "      <td>0.000346</td>\n",
              "      <td>0.001458</td>\n",
              "      <td>0.003518</td>\n",
              "      <td>0.013566</td>\n",
              "      <td>1.859726</td>\n",
              "    </tr>\n",
              "    <tr>\n",
              "      <th>4</th>\n",
              "      <td>0.0</td>\n",
              "      <td>0.0</td>\n",
              "      <td>0.000004</td>\n",
              "      <td>0.000644</td>\n",
              "      <td>0.001680</td>\n",
              "      <td>0.003524</td>\n",
              "      <td>0.012426</td>\n",
              "      <td>1.901609</td>\n",
              "    </tr>\n",
              "    <tr>\n",
              "      <th>5</th>\n",
              "      <td>0.0</td>\n",
              "      <td>0.0</td>\n",
              "      <td>0.000005</td>\n",
              "      <td>0.000399</td>\n",
              "      <td>0.001492</td>\n",
              "      <td>0.009005</td>\n",
              "      <td>0.013357</td>\n",
              "      <td>1.848934</td>\n",
              "    </tr>\n",
              "    <tr>\n",
              "      <th>6</th>\n",
              "      <td>0.0</td>\n",
              "      <td>0.0</td>\n",
              "      <td>0.000004</td>\n",
              "      <td>0.000228</td>\n",
              "      <td>0.001627</td>\n",
              "      <td>0.005115</td>\n",
              "      <td>0.012731</td>\n",
              "      <td>1.971553</td>\n",
              "    </tr>\n",
              "    <tr>\n",
              "      <th>7</th>\n",
              "      <td>0.0</td>\n",
              "      <td>0.0</td>\n",
              "      <td>0.000006</td>\n",
              "      <td>0.000315</td>\n",
              "      <td>0.001552</td>\n",
              "      <td>0.005246</td>\n",
              "      <td>0.010888</td>\n",
              "      <td>1.855534</td>\n",
              "    </tr>\n",
              "    <tr>\n",
              "      <th>8</th>\n",
              "      <td>0.0</td>\n",
              "      <td>0.0</td>\n",
              "      <td>0.000004</td>\n",
              "      <td>0.000207</td>\n",
              "      <td>0.001529</td>\n",
              "      <td>0.006110</td>\n",
              "      <td>0.013584</td>\n",
              "      <td>1.827370</td>\n",
              "    </tr>\n",
              "    <tr>\n",
              "      <th>9</th>\n",
              "      <td>0.0</td>\n",
              "      <td>0.0</td>\n",
              "      <td>0.000007</td>\n",
              "      <td>0.001215</td>\n",
              "      <td>0.001482</td>\n",
              "      <td>0.003288</td>\n",
              "      <td>0.016945</td>\n",
              "      <td>1.819672</td>\n",
              "    </tr>\n",
              "  </tbody>\n",
              "</table>\n",
              "</div>\n",
              "      <button class=\"colab-df-convert\" onclick=\"convertToInteractive('df-2c8a631c-a324-4466-b5d4-422f7891a6cf')\"\n",
              "              title=\"Convert this dataframe to an interactive table.\"\n",
              "              style=\"display:none;\">\n",
              "        \n",
              "  <svg xmlns=\"http://www.w3.org/2000/svg\" height=\"24px\"viewBox=\"0 0 24 24\"\n",
              "       width=\"24px\">\n",
              "    <path d=\"M0 0h24v24H0V0z\" fill=\"none\"/>\n",
              "    <path d=\"M18.56 5.44l.94 2.06.94-2.06 2.06-.94-2.06-.94-.94-2.06-.94 2.06-2.06.94zm-11 1L8.5 8.5l.94-2.06 2.06-.94-2.06-.94L8.5 2.5l-.94 2.06-2.06.94zm10 10l.94 2.06.94-2.06 2.06-.94-2.06-.94-.94-2.06-.94 2.06-2.06.94z\"/><path d=\"M17.41 7.96l-1.37-1.37c-.4-.4-.92-.59-1.43-.59-.52 0-1.04.2-1.43.59L10.3 9.45l-7.72 7.72c-.78.78-.78 2.05 0 2.83L4 21.41c.39.39.9.59 1.41.59.51 0 1.02-.2 1.41-.59l7.78-7.78 2.81-2.81c.8-.78.8-2.07 0-2.86zM5.41 20L4 18.59l7.72-7.72 1.47 1.35L5.41 20z\"/>\n",
              "  </svg>\n",
              "      </button>\n",
              "      \n",
              "  <style>\n",
              "    .colab-df-container {\n",
              "      display:flex;\n",
              "      flex-wrap:wrap;\n",
              "      gap: 12px;\n",
              "    }\n",
              "\n",
              "    .colab-df-convert {\n",
              "      background-color: #E8F0FE;\n",
              "      border: none;\n",
              "      border-radius: 50%;\n",
              "      cursor: pointer;\n",
              "      display: none;\n",
              "      fill: #1967D2;\n",
              "      height: 32px;\n",
              "      padding: 0 0 0 0;\n",
              "      width: 32px;\n",
              "    }\n",
              "\n",
              "    .colab-df-convert:hover {\n",
              "      background-color: #E2EBFA;\n",
              "      box-shadow: 0px 1px 2px rgba(60, 64, 67, 0.3), 0px 1px 3px 1px rgba(60, 64, 67, 0.15);\n",
              "      fill: #174EA6;\n",
              "    }\n",
              "\n",
              "    [theme=dark] .colab-df-convert {\n",
              "      background-color: #3B4455;\n",
              "      fill: #D2E3FC;\n",
              "    }\n",
              "\n",
              "    [theme=dark] .colab-df-convert:hover {\n",
              "      background-color: #434B5C;\n",
              "      box-shadow: 0px 1px 3px 1px rgba(0, 0, 0, 0.15);\n",
              "      filter: drop-shadow(0px 1px 2px rgba(0, 0, 0, 0.3));\n",
              "      fill: #FFFFFF;\n",
              "    }\n",
              "  </style>\n",
              "\n",
              "      <script>\n",
              "        const buttonEl =\n",
              "          document.querySelector('#df-2c8a631c-a324-4466-b5d4-422f7891a6cf button.colab-df-convert');\n",
              "        buttonEl.style.display =\n",
              "          google.colab.kernel.accessAllowed ? 'block' : 'none';\n",
              "\n",
              "        async function convertToInteractive(key) {\n",
              "          const element = document.querySelector('#df-2c8a631c-a324-4466-b5d4-422f7891a6cf');\n",
              "          const dataTable =\n",
              "            await google.colab.kernel.invokeFunction('convertToInteractive',\n",
              "                                                     [key], {});\n",
              "          if (!dataTable) return;\n",
              "\n",
              "          const docLinkHtml = 'Like what you see? Visit the ' +\n",
              "            '<a target=\"_blank\" href=https://colab.research.google.com/notebooks/data_table.ipynb>data table notebook</a>'\n",
              "            + ' to learn more about interactive tables.';\n",
              "          element.innerHTML = '';\n",
              "          dataTable['output_type'] = 'display_data';\n",
              "          await google.colab.output.renderOutput(dataTable, element);\n",
              "          const docLink = document.createElement('div');\n",
              "          docLink.innerHTML = docLinkHtml;\n",
              "          element.appendChild(docLink);\n",
              "        }\n",
              "      </script>\n",
              "    </div>\n",
              "  </div>\n",
              "  "
            ],
            "text/plain": [
              "     0    1         2         3         4         5         6         7\n",
              "0  0.0  0.0  0.000004  0.000652  0.001500  0.005909  0.014401  1.836364\n",
              "1  0.0  0.0  0.000006  0.000784  0.001480  0.004329  0.016305  1.890374\n",
              "2  0.0  0.0  0.000005  0.000094  0.001633  0.007295  0.014142  1.875204\n",
              "3  0.0  0.0  0.000005  0.000346  0.001458  0.003518  0.013566  1.859726\n",
              "4  0.0  0.0  0.000004  0.000644  0.001680  0.003524  0.012426  1.901609\n",
              "5  0.0  0.0  0.000005  0.000399  0.001492  0.009005  0.013357  1.848934\n",
              "6  0.0  0.0  0.000004  0.000228  0.001627  0.005115  0.012731  1.971553\n",
              "7  0.0  0.0  0.000006  0.000315  0.001552  0.005246  0.010888  1.855534\n",
              "8  0.0  0.0  0.000004  0.000207  0.001529  0.006110  0.013584  1.827370\n",
              "9  0.0  0.0  0.000007  0.001215  0.001482  0.003288  0.016945  1.819672"
            ]
          },
          "execution_count": 29,
          "metadata": {},
          "output_type": "execute_result"
        }
      ],
      "source": [
        "importances"
      ]
    },
    {
      "cell_type": "code",
      "execution_count": null,
      "metadata": {
        "colab": {
          "base_uri": "https://localhost:8080/"
        },
        "id": "mk_gBOKxmFlv",
        "outputId": "32afca80-81eb-4cd5-d686-2403d8067e9e"
      },
      "outputs": [
        {
          "name": "stdout",
          "output_type": "stream",
          "text": [
            "Spearmans correlation coefficient: 0.973\n",
            "Samples are correlated (reject H0) p=0.000\n"
          ]
        }
      ],
      "source": [
        "#decision tree\n",
        "coef, p = spearmanr(y_test, y_predic)\n",
        "print('Spearmans correlation coefficient: %.3f' % coef)\n",
        "# interpret the significance\n",
        "alpha = 0.05\n",
        "if p > alpha:\n",
        " print('Samples are uncorrelated (fail to reject H0) p=%.3f' % p)\n",
        "else:\n",
        " print('Samples are correlated (reject H0) p=%.3f' % p)"
      ]
    },
    {
      "cell_type": "code",
      "execution_count": null,
      "metadata": {
        "colab": {
          "base_uri": "https://localhost:8080/"
        },
        "id": "Iy-YaSOqqWdn",
        "outputId": "befbf8cd-9d1f-460e-b7c1-45ea03f4117b"
      },
      "outputs": [
        {
          "data": {
            "text/plain": [
              "0.021902658686843046"
            ]
          },
          "execution_count": 183,
          "metadata": {},
          "output_type": "execute_result"
        }
      ],
      "source": [
        "from sklearn.model_selection import cross_val_score\n",
        "accuracies = cross_val_score(estimator = tree, X = x_test_scaled, y = y_test, cv = 10)\n",
        "accuracies.mean()\n",
        "accuracies.std()\n"
      ]
    },
    {
      "cell_type": "code",
      "execution_count": null,
      "metadata": {
        "colab": {
          "base_uri": "https://localhost:8080/"
        },
        "id": "cVKnDZDWqYSh",
        "outputId": "61156b32-ac11-41c2-ea07-4a4b78b0f9d2"
      },
      "outputs": [
        {
          "data": {
            "text/plain": [
              "0.9510683810734177"
            ]
          },
          "execution_count": 184,
          "metadata": {},
          "output_type": "execute_result"
        }
      ],
      "source": [
        "accuracies.mean()"
      ]
    },
    {
      "cell_type": "code",
      "execution_count": null,
      "metadata": {
        "colab": {
          "base_uri": "https://localhost:8080/"
        },
        "id": "WNLlnu5nsxRo",
        "outputId": "8a210470-54d5-435b-b14c-77d404c0b773"
      },
      "outputs": [
        {
          "name": "stdout",
          "output_type": "stream",
          "text": [
            "Mean Absolute Error: 17.076901490223644\n",
            "Mean Squared Error: 1510.6535708042366\n",
            "Root Mean Squared Error: 38.867127123113136\n"
          ]
        }
      ],
      "source": [
        "from sklearn import metrics\n",
        "\n",
        "print('Mean Absolute Error:', metrics.mean_absolute_error(y_test, y_predic))\n",
        "print('Mean Squared Error:', metrics.mean_squared_error(y_test, y_predic))\n",
        "print('Root Mean Squared Error:', np.sqrt(metrics.mean_squared_error(y_test, y_predic)))\n"
      ]
    },
    {
      "cell_type": "code",
      "execution_count": null,
      "metadata": {
        "colab": {
          "base_uri": "https://localhost:8080/"
        },
        "id": "OdeaK-0ksxRo",
        "outputId": "237d4785-d5f0-4c25-fab4-b49d11b6fe35"
      },
      "outputs": [
        {
          "data": {
            "text/plain": [
              "0.9535198621790661"
            ]
          },
          "execution_count": 43,
          "metadata": {},
          "output_type": "execute_result"
        }
      ],
      "source": [
        "get_score(DecisionTreeRegressor() ,x_train,x_test,y_train,y_test)"
      ]
    },
    {
      "cell_type": "code",
      "execution_count": null,
      "metadata": {
        "colab": {
          "base_uri": "https://localhost:8080/"
        },
        "id": "_LzZASEC0r2E",
        "outputId": "3a52cac6-33c0-453c-a071-37b1449a0378"
      },
      "outputs": [
        {
          "data": {
            "text/plain": [
              "0.9543437288709199"
            ]
          },
          "execution_count": 36,
          "metadata": {},
          "output_type": "execute_result"
        }
      ],
      "source": [
        "tree.score(x_train,y_train)"
      ]
    },
    {
      "cell_type": "code",
      "execution_count": null,
      "metadata": {
        "id": "xiEdTieymD4I"
      },
      "outputs": [],
      "source": [
        "coef, p = spearmanr(y_test, y_pred)\n",
        "print('Spearmans correlation coefficient: %.3f' % coef)\n",
        "# interpret the significance\n",
        "alpha = 0.05\n",
        "if p > alpha:\n",
        " print('Samples are uncorrelated (fail to reject H0) p=%.3f' % p)\n",
        "else:\n",
        " print('Samples are correlated (reject H0) p=%.3f' % p)"
      ]
    },
    {
      "cell_type": "code",
      "execution_count": null,
      "metadata": {
        "id": "iDeuLcHPA-n4"
      },
      "outputs": [],
      "source": [
        "from mlxtend.evaluate import paired_ttest_5x2cv"
      ]
    },
    {
      "cell_type": "code",
      "execution_count": null,
      "metadata": {
        "id": "-39Z-8ubA-rr"
      },
      "outputs": [],
      "source": [
        "t, p = paired_ttest_5x2cv(estimator1=tree,\n",
        "                          estimator2=regressor,\n",
        "                          X=x_train, y=y_train,\n",
        "                          random_seed=1)"
      ]
    },
    {
      "cell_type": "code",
      "execution_count": null,
      "metadata": {
        "colab": {
          "base_uri": "https://localhost:8080/"
        },
        "id": "jZ14nAc9Bt_N",
        "outputId": "e2ad2e54-32a5-465d-987e-6964db718c30"
      },
      "outputs": [
        {
          "name": "stdout",
          "output_type": "stream",
          "text": [
            "t statistic: -0.800\n",
            "p value: 0.460\n"
          ]
        }
      ],
      "source": [
        "print('t statistic: %.3f' % t)\n",
        "print('p value: %.3f' % p)"
      ]
    },
    {
      "cell_type": "code",
      "execution_count": null,
      "metadata": {
        "colab": {
          "base_uri": "https://localhost:8080/"
        },
        "id": "bTkpeNrEsxRo",
        "outputId": "eba661f1-5c56-44fa-fb3c-0360b662b454"
      },
      "outputs": [
        {
          "data": {
            "text/plain": [
              "array([1.45802856e-01, 1.69138723e-02, 1.12985172e-03, 6.50294430e-01,\n",
              "       2.11194106e-04, 1.85647795e-01, 0.00000000e+00, 0.00000000e+00])"
            ]
          },
          "execution_count": 49,
          "metadata": {},
          "output_type": "execute_result"
        }
      ],
      "source": [
        "tree.feature_importances_"
      ]
    },
    {
      "cell_type": "code",
      "execution_count": null,
      "metadata": {
        "colab": {
          "base_uri": "https://localhost:8080/"
        },
        "id": "aI5L2fz_xbxN",
        "outputId": "12fb60e0-497e-4e65-f963-2be1ad82c508"
      },
      "outputs": [
        {
          "data": {
            "text/plain": [
              "Index(['online user', '# Spark workers', '#VMs', 'size of data',\n",
              "       'Amount of memory of workers', '# cores of workers', 'total memory',\n",
              "       '#cores of VMs', 'Ave response time'],\n",
              "      dtype='object')"
            ]
          },
          "execution_count": 50,
          "metadata": {},
          "output_type": "execute_result"
        }
      ],
      "source": [
        "df.columns"
      ]
    }
  ],
  "metadata": {
    "colab": {
      "provenance": []
    },
    "kernelspec": {
      "display_name": "Python 3",
      "language": "python",
      "name": "python3"
    },
    "language_info": {
      "codemirror_mode": {
        "name": "ipython",
        "version": 3
      },
      "file_extension": ".py",
      "mimetype": "text/x-python",
      "name": "python",
      "nbconvert_exporter": "python",
      "pygments_lexer": "ipython3",
      "version": "3.8.8"
    }
  },
  "nbformat": 4,
  "nbformat_minor": 0
}